{
 "cells": [
  {
   "cell_type": "code",
   "execution_count": 1,
   "metadata": {},
   "outputs": [
    {
     "data": {
      "application/vnd.jupyter.widget-view+json": {
       "model_id": "dcf02b4881c14cceb490ceb6aaf6b827",
       "version_major": 2,
       "version_minor": 0
      },
      "text/plain": [
       "Downloading readme:   0%|          | 0.00/8.92k [00:00<?, ?B/s]"
      ]
     },
     "metadata": {},
     "output_type": "display_data"
    },
    {
     "data": {
      "application/vnd.jupyter.widget-view+json": {
       "model_id": "39cd442ecc4448268c2d32d3834a06e7",
       "version_major": 2,
       "version_minor": 0
      },
      "text/plain": [
       "Downloading data files:   0%|          | 0/2 [00:00<?, ?it/s]"
      ]
     },
     "metadata": {},
     "output_type": "display_data"
    },
    {
     "data": {
      "application/vnd.jupyter.widget-view+json": {
       "model_id": "df5bbd7c7bc04cf384badb1bdb557606",
       "version_major": 2,
       "version_minor": 0
      },
      "text/plain": [
       "Downloading data:   0%|          | 0.00/16.4M [00:00<?, ?B/s]"
      ]
     },
     "metadata": {},
     "output_type": "display_data"
    },
    {
     "data": {
      "application/vnd.jupyter.widget-view+json": {
       "model_id": "7ec2d664bff6449c9f9301264b4448cd",
       "version_major": 2,
       "version_minor": 0
      },
      "text/plain": [
       "Downloading data:   0%|          | 0.00/1.35M [00:00<?, ?B/s]"
      ]
     },
     "metadata": {},
     "output_type": "display_data"
    },
    {
     "data": {
      "application/vnd.jupyter.widget-view+json": {
       "model_id": "71b0645a65fa48e9b057ecea526b241a",
       "version_major": 2,
       "version_minor": 0
      },
      "text/plain": [
       "Extracting data files:   0%|          | 0/2 [00:00<?, ?it/s]"
      ]
     },
     "metadata": {},
     "output_type": "display_data"
    },
    {
     "data": {
      "application/vnd.jupyter.widget-view+json": {
       "model_id": "8e08f0a71c1247f2a5b03f6bc31af72d",
       "version_major": 2,
       "version_minor": 0
      },
      "text/plain": [
       "Generating train split:   0%|          | 0/130319 [00:00<?, ? examples/s]"
      ]
     },
     "metadata": {},
     "output_type": "display_data"
    },
    {
     "data": {
      "application/vnd.jupyter.widget-view+json": {
       "model_id": "af87ca508e444df98610ebdc6f0ab014",
       "version_major": 2,
       "version_minor": 0
      },
      "text/plain": [
       "Generating validation split:   0%|          | 0/11873 [00:00<?, ? examples/s]"
      ]
     },
     "metadata": {},
     "output_type": "display_data"
    },
    {
     "name": "stdout",
     "output_type": "stream",
     "text": [
      "{'id': '56be85543aeaaa14008c9063', 'title': 'Beyoncé', 'context': 'Beyoncé Giselle Knowles-Carter (/biːˈjɒnseɪ/ bee-YON-say) (born September 4, 1981) is an American singer, songwriter, record producer and actress. Born and raised in Houston, Texas, she performed in various singing and dancing competitions as a child, and rose to fame in the late 1990s as lead singer of R&B girl-group Destiny\\'s Child. Managed by her father, Mathew Knowles, the group became one of the world\\'s best-selling girl groups of all time. Their hiatus saw the release of Beyoncé\\'s debut album, Dangerously in Love (2003), which established her as a solo artist worldwide, earned five Grammy Awards and featured the Billboard Hot 100 number-one singles \"Crazy in Love\" and \"Baby Boy\".', 'question': 'When did Beyonce start becoming popular?', 'answers': {'text': ['in the late 1990s'], 'answer_start': [269]}}\n"
     ]
    }
   ],
   "source": [
    "from datasets import load_dataset\n",
    "\n",
    "# Load preprocessed SQuAD 2.0\n",
    "dataset = load_dataset(\"squad_v2\")\n",
    "\n",
    "# Access train and validation splits\n",
    "train_data = dataset[\"train\"]\n",
    "validation_data = dataset[\"validation\"]\n",
    "\n",
    "# Example usage\n",
    "print(train_data[0])  # Inspect first sample\n"
   ]
  },
  {
   "cell_type": "code",
   "execution_count": 2,
   "metadata": {},
   "outputs": [
    {
     "name": "stdout",
     "output_type": "stream",
     "text": [
      "├── Transformer/\n",
      "    ├── .git/\n",
      "        ├── COMMIT_EDITMSG\n",
      "        ├── config\n",
      "        ├── description\n",
      "        ├── HEAD\n",
      "        ├── index\n",
      "        ├── packed-refs\n",
      "        ├── hooks/\n",
      "            ├── applypatch-msg.sample\n",
      "            ├── commit-msg.sample\n",
      "            ├── fsmonitor-watchman.sample\n",
      "            ├── post-update.sample\n",
      "            ├── pre-applypatch.sample\n",
      "            ├── pre-commit.sample\n",
      "            ├── pre-merge-commit.sample\n",
      "            ├── pre-push.sample\n",
      "            ├── pre-rebase.sample\n",
      "            ├── pre-receive.sample\n",
      "            ├── prepare-commit-msg.sample\n",
      "            ├── push-to-checkout.sample\n",
      "            ├── sendemail-validate.sample\n",
      "            ├── update.sample\n",
      "        ├── info/\n",
      "            ├── exclude\n",
      "        ├── logs/\n",
      "            ├── HEAD\n",
      "            ├── refs/\n",
      "                ├── heads/\n",
      "                    ├── main\n",
      "                ├── remotes/\n",
      "                    ├── origin/\n",
      "                        ├── HEAD\n",
      "                        ├── main\n",
      "        ├── objects/\n",
      "            ├── 6b/\n",
      "                ├── c1dcebab2ae5211dc9c57f50ad7650921901ac\n",
      "            ├── 8e/\n",
      "                ├── 5ec30f1ed6d59b1062c2e4c8a95f2d769e5acd\n",
      "            ├── fd/\n",
      "                ├── 347ae0a70e4dc915fbe3bae74d526fa29d28cb\n",
      "            ├── info/\n",
      "            ├── pack/\n",
      "                ├── pack-6f79dc00f45052eadf23a64dfa4129f999251051.idx\n",
      "                ├── pack-6f79dc00f45052eadf23a64dfa4129f999251051.pack\n",
      "                ├── pack-6f79dc00f45052eadf23a64dfa4129f999251051.rev\n",
      "        ├── refs/\n",
      "            ├── heads/\n",
      "                ├── main\n",
      "            ├── remotes/\n",
      "                ├── origin/\n",
      "                    ├── HEAD\n",
      "                    ├── main\n",
      "            ├── tags/\n",
      "    ├── BERT/\n",
      "        ├── example.py\n",
      "    ├── Encoder_Decoder/\n",
      "        ├── final_translation.csv\n",
      "        ├── Main_Translation.ipynb\n",
      "        ├── Model_Params.pth\n",
      "        ├── testing.ipynb\n"
     ]
    }
   ],
   "source": [
    "import os\n",
    "\n",
    "def display_tree(startpath):\n",
    "    for root, dirs, files in os.walk(startpath):\n",
    "        level = root.replace(startpath, '').count(os.sep)\n",
    "        indent = ' ' * 4 * level\n",
    "        print(f\"{indent}├── {os.path.basename(root)}/\")\n",
    "        subindent = ' ' * 4 * (level + 1)\n",
    "        for f in files:\n",
    "            print(f\"{subindent}├── {f}\")\n",
    "\n",
    "# Replace with your directory path\n",
    "display_tree(\"C:/Users/Kamal/Downloads/BERT/Transformer\")\n"
   ]
  }
 ],
 "metadata": {
  "kernelspec": {
   "display_name": "Python 3",
   "language": "python",
   "name": "python3"
  },
  "language_info": {
   "codemirror_mode": {
    "name": "ipython",
    "version": 3
   },
   "file_extension": ".py",
   "mimetype": "text/x-python",
   "name": "python",
   "nbconvert_exporter": "python",
   "pygments_lexer": "ipython3",
   "version": "3.11.0"
  }
 },
 "nbformat": 4,
 "nbformat_minor": 2
}

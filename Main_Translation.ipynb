{
  "cells": [
    {
      "cell_type": "code",
      "execution_count": 60,
      "metadata": {
        "colab": {
          "base_uri": "https://localhost:8080/"
        },
        "id": "WASYCq5LYyF0",
        "outputId": "47909b84-3851-4c8e-f605-6961200dacc1"
      },
      "outputs": [
        {
          "name": "stdout",
          "output_type": "stream",
          "text": [
            "<class 'pandas.core.frame.DataFrame'>\n",
            "RangeIndex: 11104 entries, 0 to 11103\n",
            "Data columns (total 2 columns):\n",
            " #   Column   Non-Null Count  Dtype \n",
            "---  ------   --------------  ----- \n",
            " 0   English  11104 non-null  object\n",
            " 1   Tamil    11104 non-null  object\n",
            "dtypes: object(2)\n",
            "memory usage: 173.6+ KB\n"
          ]
        }
      ],
      "source": [
        "import pandas as pd\n",
        "df = pd.read_csv('C:\\\\Users\\\\Kamal\\\\Downloads\\\\final_translation.csv')\n",
        "df.columns = ['English','Tamil']\n",
        "df.info()"
      ]
    },
    {
      "cell_type": "code",
      "execution_count": 61,
      "metadata": {
        "colab": {
          "base_uri": "https://localhost:8080/",
          "height": 424
        },
        "id": "ujPMEJzVeYWG",
        "outputId": "d420588d-803d-4a79-f721-01058200cc76"
      },
      "outputs": [
        {
          "data": {
            "text/html": [
              "<div>\n",
              "<style scoped>\n",
              "    .dataframe tbody tr th:only-of-type {\n",
              "        vertical-align: middle;\n",
              "    }\n",
              "\n",
              "    .dataframe tbody tr th {\n",
              "        vertical-align: top;\n",
              "    }\n",
              "\n",
              "    .dataframe thead th {\n",
              "        text-align: right;\n",
              "    }\n",
              "</style>\n",
              "<table border=\"1\" class=\"dataframe\">\n",
              "  <thead>\n",
              "    <tr style=\"text-align: right;\">\n",
              "      <th></th>\n",
              "      <th>English</th>\n",
              "      <th>Tamil</th>\n",
              "    </tr>\n",
              "  </thead>\n",
              "  <tbody>\n",
              "    <tr>\n",
              "      <th>0</th>\n",
              "      <td>Lets try something</td>\n",
              "      <td>ஏதாவது முயற்சி செய்யலாம்</td>\n",
              "    </tr>\n",
              "    <tr>\n",
              "      <th>1</th>\n",
              "      <td>I have to go to sleep</td>\n",
              "      <td>நான் தூங்க செல்ல வேண்டும்</td>\n",
              "    </tr>\n",
              "    <tr>\n",
              "      <th>2</th>\n",
              "      <td>Today is June 18th and it is Muiriels birthday</td>\n",
              "      <td>இன்று ஜூன் 18 மற்றும் முரியலின் பிறந்த நாள்</td>\n",
              "    </tr>\n",
              "    <tr>\n",
              "      <th>3</th>\n",
              "      <td>Muiriel is 20 now</td>\n",
              "      <td>முரியலுக்கு இப்போது 20 வயது</td>\n",
              "    </tr>\n",
              "    <tr>\n",
              "      <th>4</th>\n",
              "      <td>The password is Muiriel</td>\n",
              "      <td>கடவுச்சொல் முரியல்</td>\n",
              "    </tr>\n",
              "    <tr>\n",
              "      <th>...</th>\n",
              "      <td>...</td>\n",
              "      <td>...</td>\n",
              "    </tr>\n",
              "    <tr>\n",
              "      <th>11099</th>\n",
              "      <td>Dont speak to the driver while he is driving</td>\n",
              "      <td>வாகனம் ஓட்டும் போது ஓட்டுனரிடம் பேச வேண்டாம்</td>\n",
              "    </tr>\n",
              "    <tr>\n",
              "      <th>11100</th>\n",
              "      <td>The driver was inattentive and could not stop ...</td>\n",
              "      <td>டிரைவர் கவனக்குறைவாக இருந்ததால் சரியான நேரத்தி...</td>\n",
              "    </tr>\n",
              "    <tr>\n",
              "      <th>11101</th>\n",
              "      <td>The driver could not distinguish the signal in...</td>\n",
              "      <td>டிரைவரால் மூடுபனியில் சிக்னலை வேறுபடுத்திப் பா...</td>\n",
              "    </tr>\n",
              "    <tr>\n",
              "      <th>11102</th>\n",
              "      <td>The driver tipped his cap</td>\n",
              "      <td>டிரைவர் தொப்பியை சாய்த்தார்</td>\n",
              "    </tr>\n",
              "    <tr>\n",
              "      <th>11103</th>\n",
              "      <td>The driver gestured him out</td>\n",
              "      <td>ஓட்டுனர் சைகையால் வெளியே காட்டினார்</td>\n",
              "    </tr>\n",
              "  </tbody>\n",
              "</table>\n",
              "<p>11104 rows × 2 columns</p>\n",
              "</div>"
            ],
            "text/plain": [
              "                                                 English  \\\n",
              "0                                     Lets try something   \n",
              "1                                  I have to go to sleep   \n",
              "2         Today is June 18th and it is Muiriels birthday   \n",
              "3                                      Muiriel is 20 now   \n",
              "4                                The password is Muiriel   \n",
              "...                                                  ...   \n",
              "11099       Dont speak to the driver while he is driving   \n",
              "11100  The driver was inattentive and could not stop ...   \n",
              "11101  The driver could not distinguish the signal in...   \n",
              "11102                          The driver tipped his cap   \n",
              "11103                        The driver gestured him out   \n",
              "\n",
              "                                                   Tamil  \n",
              "0                               ஏதாவது முயற்சி செய்யலாம்  \n",
              "1                              நான் தூங்க செல்ல வேண்டும்  \n",
              "2            இன்று ஜூன் 18 மற்றும் முரியலின் பிறந்த நாள்  \n",
              "3                            முரியலுக்கு இப்போது 20 வயது  \n",
              "4                                     கடவுச்சொல் முரியல்  \n",
              "...                                                  ...  \n",
              "11099       வாகனம் ஓட்டும் போது ஓட்டுனரிடம் பேச வேண்டாம்  \n",
              "11100  டிரைவர் கவனக்குறைவாக இருந்ததால் சரியான நேரத்தி...  \n",
              "11101  டிரைவரால் மூடுபனியில் சிக்னலை வேறுபடுத்திப் பா...  \n",
              "11102                        டிரைவர் தொப்பியை சாய்த்தார்  \n",
              "11103                ஓட்டுனர் சைகையால் வெளியே காட்டினார்  \n",
              "\n",
              "[11104 rows x 2 columns]"
            ]
          },
          "execution_count": 61,
          "metadata": {},
          "output_type": "execute_result"
        }
      ],
      "source": [
        "import re\n",
        "\n",
        "def clean_text(text):\n",
        "    # Keep only Tamil/English letters and numbers, remove all other characters\n",
        "    return re.sub(r'[^a-zA-Z0-9\\u0B80-\\u0BFF\\s]', '', text)\n",
        "\n",
        "# Apply cleaning function to English and Tamil columns\n",
        "df['English'] = df['English'].apply(clean_text)  # Clean English column\n",
        "df['Tamil'] = df['Tamil'].apply(clean_text)  # Clean Tamil column\n",
        "\n",
        "df"
      ]
    },
    {
      "cell_type": "code",
      "execution_count": 62,
      "metadata": {
        "colab": {
          "base_uri": "https://localhost:8080/",
          "height": 424
        },
        "id": "pTatalI-feBW",
        "outputId": "da895ddd-3b28-4452-c289-4ce54450902e"
      },
      "outputs": [
        {
          "data": {
            "text/html": [
              "<div>\n",
              "<style scoped>\n",
              "    .dataframe tbody tr th:only-of-type {\n",
              "        vertical-align: middle;\n",
              "    }\n",
              "\n",
              "    .dataframe tbody tr th {\n",
              "        vertical-align: top;\n",
              "    }\n",
              "\n",
              "    .dataframe thead th {\n",
              "        text-align: right;\n",
              "    }\n",
              "</style>\n",
              "<table border=\"1\" class=\"dataframe\">\n",
              "  <thead>\n",
              "    <tr style=\"text-align: right;\">\n",
              "      <th></th>\n",
              "      <th>English</th>\n",
              "      <th>Tamil</th>\n",
              "    </tr>\n",
              "  </thead>\n",
              "  <tbody>\n",
              "    <tr>\n",
              "      <th>0</th>\n",
              "      <td>Lets try something</td>\n",
              "      <td>ஏதாவது முயற்சி செய்யலாம்</td>\n",
              "    </tr>\n",
              "    <tr>\n",
              "      <th>1</th>\n",
              "      <td>I have to go to sleep</td>\n",
              "      <td>நான் தூங்க செல்ல வேண்டும்</td>\n",
              "    </tr>\n",
              "    <tr>\n",
              "      <th>2</th>\n",
              "      <td>Today is June 18th and it is Muiriels birthday</td>\n",
              "      <td>இன்று ஜூன் 18 மற்றும் முரியலின் பிறந்த நாள்</td>\n",
              "    </tr>\n",
              "    <tr>\n",
              "      <th>3</th>\n",
              "      <td>Muiriel is 20 now</td>\n",
              "      <td>முரியலுக்கு இப்போது 20 வயது</td>\n",
              "    </tr>\n",
              "    <tr>\n",
              "      <th>4</th>\n",
              "      <td>The password is Muiriel</td>\n",
              "      <td>கடவுச்சொல் முரியல்</td>\n",
              "    </tr>\n",
              "    <tr>\n",
              "      <th>...</th>\n",
              "      <td>...</td>\n",
              "      <td>...</td>\n",
              "    </tr>\n",
              "    <tr>\n",
              "      <th>11099</th>\n",
              "      <td>Dont speak to the driver while he is driving</td>\n",
              "      <td>வாகனம் ஓட்டும் போது ஓட்டுனரிடம் பேச வேண்டாம்</td>\n",
              "    </tr>\n",
              "    <tr>\n",
              "      <th>11100</th>\n",
              "      <td>The driver was inattentive and could not stop ...</td>\n",
              "      <td>டிரைவர் கவனக்குறைவாக இருந்ததால் சரியான நேரத்தி...</td>\n",
              "    </tr>\n",
              "    <tr>\n",
              "      <th>11101</th>\n",
              "      <td>The driver could not distinguish the signal in...</td>\n",
              "      <td>டிரைவரால் மூடுபனியில் சிக்னலை வேறுபடுத்திப் பா...</td>\n",
              "    </tr>\n",
              "    <tr>\n",
              "      <th>11102</th>\n",
              "      <td>The driver tipped his cap</td>\n",
              "      <td>டிரைவர் தொப்பியை சாய்த்தார்</td>\n",
              "    </tr>\n",
              "    <tr>\n",
              "      <th>11103</th>\n",
              "      <td>The driver gestured him out</td>\n",
              "      <td>ஓட்டுனர் சைகையால் வெளியே காட்டினார்</td>\n",
              "    </tr>\n",
              "  </tbody>\n",
              "</table>\n",
              "<p>11076 rows × 2 columns</p>\n",
              "</div>"
            ],
            "text/plain": [
              "                                                 English  \\\n",
              "0                                     Lets try something   \n",
              "1                                  I have to go to sleep   \n",
              "2         Today is June 18th and it is Muiriels birthday   \n",
              "3                                      Muiriel is 20 now   \n",
              "4                                The password is Muiriel   \n",
              "...                                                  ...   \n",
              "11099       Dont speak to the driver while he is driving   \n",
              "11100  The driver was inattentive and could not stop ...   \n",
              "11101  The driver could not distinguish the signal in...   \n",
              "11102                          The driver tipped his cap   \n",
              "11103                        The driver gestured him out   \n",
              "\n",
              "                                                   Tamil  \n",
              "0                               ஏதாவது முயற்சி செய்யலாம்  \n",
              "1                              நான் தூங்க செல்ல வேண்டும்  \n",
              "2            இன்று ஜூன் 18 மற்றும் முரியலின் பிறந்த நாள்  \n",
              "3                            முரியலுக்கு இப்போது 20 வயது  \n",
              "4                                     கடவுச்சொல் முரியல்  \n",
              "...                                                  ...  \n",
              "11099       வாகனம் ஓட்டும் போது ஓட்டுனரிடம் பேச வேண்டாம்  \n",
              "11100  டிரைவர் கவனக்குறைவாக இருந்ததால் சரியான நேரத்தி...  \n",
              "11101  டிரைவரால் மூடுபனியில் சிக்னலை வேறுபடுத்திப் பா...  \n",
              "11102                        டிரைவர் தொப்பியை சாய்த்தார்  \n",
              "11103                ஓட்டுனர் சைகையால் வெளியே காட்டினார்  \n",
              "\n",
              "[11076 rows x 2 columns]"
            ]
          },
          "execution_count": 62,
          "metadata": {},
          "output_type": "execute_result"
        }
      ],
      "source": [
        "# Define a function to check if any English character is present in the Tamil text\n",
        "def contains_english(text):\n",
        "    # This regex checks if the text contains any character from the English alphabet\n",
        "    return bool(re.search(r'[a-zA-Z]', text))\n",
        "\n",
        "# Apply the function to filter out rows where Tamil contains English words\n",
        "df = df[~df['Tamil'].apply(contains_english)]\n",
        "df"
      ]
    },
    {
      "cell_type": "code",
      "execution_count": 63,
      "metadata": {
        "id": "iXfU6sXgf81u"
      },
      "outputs": [],
      "source": [
        "import pandas as pd\n",
        "\n",
        "# Define the WordLevelTokenizer class (use the class from the previous answer)\n",
        "class WordLevelTokenizer:\n",
        "    def __init__(self, special_tokens=None):\n",
        "        self.word_to_id = {}\n",
        "        self.id_to_word = {}\n",
        "        self.special_tokens = special_tokens or []\n",
        "        self.build_vocab(self.special_tokens)\n",
        "\n",
        "    def build_vocab(self, tokens):\n",
        "        for token in tokens:\n",
        "            self.add_token(token)\n",
        "\n",
        "    def add_token(self, token):\n",
        "        if token not in self.word_to_id:\n",
        "            idx = len(self.word_to_id)\n",
        "            self.word_to_id[token] = idx\n",
        "            self.id_to_word[idx] = token\n",
        "\n",
        "    def tokenize(self, text):\n",
        "        return text.split()\n",
        "\n",
        "    def encode(self, text):\n",
        "        tokens = self.tokenize(text)\n",
        "        return [self.word_to_id.get(token, self.word_to_id.get(\"<UNK>\")) for token in tokens]\n",
        "\n",
        "    def decode(self, token_ids):\n",
        "        return \" \".join(self.id_to_word.get(idx, \"<UNK>\") for idx in token_ids)\n",
        "\n",
        "    def fit_on_texts(self, texts):\n",
        "        for text in texts:\n",
        "            tokens = self.tokenize(text)\n",
        "            self.build_vocab(tokens)\n",
        "\n",
        "    def vocab_size(self):\n",
        "        return len(self.word_to_id)"
      ]
    },
    {
      "cell_type": "code",
      "execution_count": 64,
      "metadata": {
        "id": "25rq3UOXgEbW"
      },
      "outputs": [],
      "source": [
        "# Initialize tokenizer with special tokens\n",
        "special_tokens = [\"<UNK>\", \"<PAD>\", \"<SOS>\", \"<EOS>\"]\n",
        "tamil_tokenizer = WordLevelTokenizer(special_tokens=special_tokens)\n",
        "english_tokenizer = WordLevelTokenizer(special_tokens=special_tokens)"
      ]
    },
    {
      "cell_type": "code",
      "execution_count": 65,
      "metadata": {
        "colab": {
          "base_uri": "https://localhost:8080/"
        },
        "id": "TtxzmjXxgHIN",
        "outputId": "c0aa301c-d15d-4407-dbec-77635d551279"
      },
      "outputs": [
        {
          "name": "stdout",
          "output_type": "stream",
          "text": [
            "Vocabulary: 15529\n"
          ]
        }
      ],
      "source": [
        "# Fit tokenizer on the 'text' column\n",
        "tamil_tokenizer.fit_on_texts(df['Tamil'])\n",
        "print(\"Vocabulary:\", len(tamil_tokenizer.word_to_id))"
      ]
    },
    {
      "cell_type": "code",
      "execution_count": 66,
      "metadata": {
        "colab": {
          "base_uri": "https://localhost:8080/"
        },
        "id": "cZnfG-dVgMYG",
        "outputId": "8b5cc47a-0148-4599-bea4-85be461bcefd"
      },
      "outputs": [
        {
          "name": "stdout",
          "output_type": "stream",
          "text": [
            "Vocabulary: 8100\n"
          ]
        }
      ],
      "source": [
        "english_tokenizer.fit_on_texts(df['English'])\n",
        "print(\"Vocabulary:\", len(english_tokenizer.word_to_id))"
      ]
    },
    {
      "cell_type": "code",
      "execution_count": 67,
      "metadata": {
        "colab": {
          "base_uri": "https://localhost:8080/",
          "height": 632
        },
        "id": "XIpneaZhgRs2",
        "outputId": "242ba9c4-d97f-4378-e4cb-6f71489375b1"
      },
      "outputs": [
        {
          "data": {
            "text/html": [
              "<div>\n",
              "<style scoped>\n",
              "    .dataframe tbody tr th:only-of-type {\n",
              "        vertical-align: middle;\n",
              "    }\n",
              "\n",
              "    .dataframe tbody tr th {\n",
              "        vertical-align: top;\n",
              "    }\n",
              "\n",
              "    .dataframe thead th {\n",
              "        text-align: right;\n",
              "    }\n",
              "</style>\n",
              "<table border=\"1\" class=\"dataframe\">\n",
              "  <thead>\n",
              "    <tr style=\"text-align: right;\">\n",
              "      <th></th>\n",
              "      <th>English</th>\n",
              "      <th>Tamil</th>\n",
              "      <th>Tokenized_Tamil</th>\n",
              "      <th>Tokenized_English</th>\n",
              "    </tr>\n",
              "  </thead>\n",
              "  <tbody>\n",
              "    <tr>\n",
              "      <th>0</th>\n",
              "      <td>Lets try something</td>\n",
              "      <td>ஏதாவது முயற்சி செய்யலாம்</td>\n",
              "      <td>[4, 5, 6]</td>\n",
              "      <td>[4, 5, 6]</td>\n",
              "    </tr>\n",
              "    <tr>\n",
              "      <th>1</th>\n",
              "      <td>I have to go to sleep</td>\n",
              "      <td>நான் தூங்க செல்ல வேண்டும்</td>\n",
              "      <td>[7, 8, 9, 10]</td>\n",
              "      <td>[7, 8, 9, 10, 9, 11]</td>\n",
              "    </tr>\n",
              "    <tr>\n",
              "      <th>2</th>\n",
              "      <td>Today is June 18th and it is Muiriels birthday</td>\n",
              "      <td>இன்று ஜூன் 18 மற்றும் முரியலின் பிறந்த நாள்</td>\n",
              "      <td>[11, 12, 13, 14, 15, 16, 17]</td>\n",
              "      <td>[12, 13, 14, 15, 16, 17, 13, 18, 19]</td>\n",
              "    </tr>\n",
              "    <tr>\n",
              "      <th>3</th>\n",
              "      <td>Muiriel is 20 now</td>\n",
              "      <td>முரியலுக்கு இப்போது 20 வயது</td>\n",
              "      <td>[18, 19, 20, 21]</td>\n",
              "      <td>[20, 13, 21, 22]</td>\n",
              "    </tr>\n",
              "    <tr>\n",
              "      <th>4</th>\n",
              "      <td>The password is Muiriel</td>\n",
              "      <td>கடவுச்சொல் முரியல்</td>\n",
              "      <td>[22, 23]</td>\n",
              "      <td>[23, 24, 13, 20]</td>\n",
              "    </tr>\n",
              "    <tr>\n",
              "      <th>...</th>\n",
              "      <td>...</td>\n",
              "      <td>...</td>\n",
              "      <td>...</td>\n",
              "      <td>...</td>\n",
              "    </tr>\n",
              "    <tr>\n",
              "      <th>11099</th>\n",
              "      <td>Dont speak to the driver while he is driving</td>\n",
              "      <td>வாகனம் ஓட்டும் போது ஓட்டுனரிடம் பேச வேண்டாம்</td>\n",
              "      <td>[3724, 15517, 741, 15520, 1215, 797]</td>\n",
              "      <td>[487, 491, 9, 50, 7118, 481, 89, 13, 1678]</td>\n",
              "    </tr>\n",
              "    <tr>\n",
              "      <th>11100</th>\n",
              "      <td>The driver was inattentive and could not stop ...</td>\n",
              "      <td>டிரைவர் கவனக்குறைவாக இருந்ததால் சரியான நேரத்தி...</td>\n",
              "      <td>[15521, 3850, 751, 465, 2632, 2354, 2246]</td>\n",
              "      <td>[23, 7118, 45, 8096, 16, 149, 96, 2074, 49, 56]</td>\n",
              "    </tr>\n",
              "    <tr>\n",
              "      <th>11101</th>\n",
              "      <td>The driver could not distinguish the signal in...</td>\n",
              "      <td>டிரைவரால் மூடுபனியில் சிக்னலை வேறுபடுத்திப் பா...</td>\n",
              "      <td>[15522, 15523, 15524, 3612, 502, 2246]</td>\n",
              "      <td>[23, 7118, 149, 96, 2531, 50, 8097, 49, 50, 3566]</td>\n",
              "    </tr>\n",
              "    <tr>\n",
              "      <th>11102</th>\n",
              "      <td>The driver tipped his cap</td>\n",
              "      <td>டிரைவர் தொப்பியை சாய்த்தார்</td>\n",
              "      <td>[15521, 15525, 15526]</td>\n",
              "      <td>[23, 7118, 8098, 886, 6047]</td>\n",
              "    </tr>\n",
              "    <tr>\n",
              "      <th>11103</th>\n",
              "      <td>The driver gestured him out</td>\n",
              "      <td>ஓட்டுனர் சைகையால் வெளியே காட்டினார்</td>\n",
              "      <td>[15527, 15528, 758, 8712]</td>\n",
              "      <td>[23, 7118, 8099, 216, 695]</td>\n",
              "    </tr>\n",
              "  </tbody>\n",
              "</table>\n",
              "<p>11076 rows × 4 columns</p>\n",
              "</div>"
            ],
            "text/plain": [
              "                                                 English  \\\n",
              "0                                     Lets try something   \n",
              "1                                  I have to go to sleep   \n",
              "2         Today is June 18th and it is Muiriels birthday   \n",
              "3                                      Muiriel is 20 now   \n",
              "4                                The password is Muiriel   \n",
              "...                                                  ...   \n",
              "11099       Dont speak to the driver while he is driving   \n",
              "11100  The driver was inattentive and could not stop ...   \n",
              "11101  The driver could not distinguish the signal in...   \n",
              "11102                          The driver tipped his cap   \n",
              "11103                        The driver gestured him out   \n",
              "\n",
              "                                                   Tamil  \\\n",
              "0                               ஏதாவது முயற்சி செய்யலாம்   \n",
              "1                              நான் தூங்க செல்ல வேண்டும்   \n",
              "2            இன்று ஜூன் 18 மற்றும் முரியலின் பிறந்த நாள்   \n",
              "3                            முரியலுக்கு இப்போது 20 வயது   \n",
              "4                                     கடவுச்சொல் முரியல்   \n",
              "...                                                  ...   \n",
              "11099       வாகனம் ஓட்டும் போது ஓட்டுனரிடம் பேச வேண்டாம்   \n",
              "11100  டிரைவர் கவனக்குறைவாக இருந்ததால் சரியான நேரத்தி...   \n",
              "11101  டிரைவரால் மூடுபனியில் சிக்னலை வேறுபடுத்திப் பா...   \n",
              "11102                        டிரைவர் தொப்பியை சாய்த்தார்   \n",
              "11103                ஓட்டுனர் சைகையால் வெளியே காட்டினார்   \n",
              "\n",
              "                                 Tokenized_Tamil  \\\n",
              "0                                      [4, 5, 6]   \n",
              "1                                  [7, 8, 9, 10]   \n",
              "2                   [11, 12, 13, 14, 15, 16, 17]   \n",
              "3                               [18, 19, 20, 21]   \n",
              "4                                       [22, 23]   \n",
              "...                                          ...   \n",
              "11099       [3724, 15517, 741, 15520, 1215, 797]   \n",
              "11100  [15521, 3850, 751, 465, 2632, 2354, 2246]   \n",
              "11101     [15522, 15523, 15524, 3612, 502, 2246]   \n",
              "11102                      [15521, 15525, 15526]   \n",
              "11103                  [15527, 15528, 758, 8712]   \n",
              "\n",
              "                                       Tokenized_English  \n",
              "0                                              [4, 5, 6]  \n",
              "1                                   [7, 8, 9, 10, 9, 11]  \n",
              "2                   [12, 13, 14, 15, 16, 17, 13, 18, 19]  \n",
              "3                                       [20, 13, 21, 22]  \n",
              "4                                       [23, 24, 13, 20]  \n",
              "...                                                  ...  \n",
              "11099         [487, 491, 9, 50, 7118, 481, 89, 13, 1678]  \n",
              "11100    [23, 7118, 45, 8096, 16, 149, 96, 2074, 49, 56]  \n",
              "11101  [23, 7118, 149, 96, 2531, 50, 8097, 49, 50, 3566]  \n",
              "11102                        [23, 7118, 8098, 886, 6047]  \n",
              "11103                         [23, 7118, 8099, 216, 695]  \n",
              "\n",
              "[11076 rows x 4 columns]"
            ]
          },
          "execution_count": 67,
          "metadata": {},
          "output_type": "execute_result"
        }
      ],
      "source": [
        "# Tokenize the Tamil text in your dataframe\n",
        "df['Tokenized_Tamil'] = df['Tamil'].apply(lambda x: tamil_tokenizer.encode(x))\n",
        "df['Tokenized_English'] = df['English'].apply(lambda x: english_tokenizer.encode(x))\n",
        "# Print the dataframe with tokenized Tamil text\n",
        "df"
      ]
    },
    {
      "cell_type": "code",
      "execution_count": 59,
      "metadata": {},
      "outputs": [
        {
          "data": {
            "image/png": "[encoded data removed]",
            "text/plain": [
              "<Figure size 1000x600 with 1 Axes>"
            ]
          },
          "metadata": {},
          "output_type": "display_data"
        },
        {
          "data": {
            "image/png": "[encoded data removed]",
            "text/plain": [
              "<Figure size 800x400 with 1 Axes>"
            ]
          },
          "metadata": {},
          "output_type": "display_data"
        }
      ],
      "source": [
        "import matplotlib.pyplot as plt\n",
        "import seaborn as sns\n",
        "\n",
        "# Plot the distribution of total token length using a histogram\n",
        "plt.figure(figsize=(10, 6))\n",
        "sns.histplot(df_sorted[\"total_token_length\"], bins=40, kde=True, color=\"skyblue\")\n",
        "plt.title(\"Distribution of Total Token Length\", fontsize=16)\n",
        "plt.xlabel(\"Total Token Length (English + Tamil)\", fontsize=14)\n",
        "plt.ylabel(\"Frequency\", fontsize=14)\n",
        "plt.grid(axis=\"y\", linestyle=\"--\", alpha=0.7)\n",
        "plt.show()\n",
        "\n",
        "# Optional: Boxplot for a quick summary of the distribution\n",
        "plt.figure(figsize=(8, 4))\n",
        "sns.boxplot(x=df_sorted[\"total_token_length\"], color=\"lightcoral\")\n",
        "plt.title(\"Boxplot of Total Token Length\", fontsize=16)\n",
        "plt.xlabel(\"Total Token Length (English + Tamil)\", fontsize=14)\n",
        "plt.show()\n"
      ]
    },
    {
      "cell_type": "code",
      "execution_count": 68,
      "metadata": {
        "colab": {
          "base_uri": "https://localhost:8080/"
        },
        "id": "KWTVc0hVhHk-",
        "outputId": "a2c4c744-e45d-49a7-cb05-0262f495d2bd"
      },
      "outputs": [
        {
          "name": "stdout",
          "output_type": "stream",
          "text": [
            "0\n",
            "61925\n"
          ]
        }
      ],
      "source": [
        "z = 0\n",
        "t = 0\n",
        "for i in df['Tokenized_Tamil']:\n",
        "    for j in i:\n",
        "        t = t +1\n",
        "        if j == 0:\n",
        "           z=z+1\n",
        "print(z)\n",
        "print(t)"
      ]
    },
    {
      "cell_type": "code",
      "execution_count": 69,
      "metadata": {
        "colab": {
          "base_uri": "https://localhost:8080/"
        },
        "id": "LmrG-vynhPWG",
        "outputId": "2038f7e0-9b4f-4f72-b64d-d37a274c6254"
      },
      "outputs": [
        {
          "name": "stdout",
          "output_type": "stream",
          "text": [
            "3\n"
          ]
        },
        {
          "data": {
            "text/plain": [
              "(11076, 4)"
            ]
          },
          "execution_count": 69,
          "metadata": {},
          "output_type": "execute_result"
        }
      ],
      "source": [
        "tamil_idx = []\n",
        "for idx , i in enumerate(df['Tokenized_Tamil']):\n",
        "    if len(i) > 24:\n",
        "        tamil_idx.append(idx)\n",
        "\n",
        "print(len(tamil_idx))\n",
        "\n",
        "df.shape"
      ]
    },
    {
      "cell_type": "code",
      "execution_count": 70,
      "metadata": {
        "colab": {
          "base_uri": "https://localhost:8080/"
        },
        "id": "tJmWY13dhi_m",
        "outputId": "088c5737-dc02-4f0e-f367-a8373308f465"
      },
      "outputs": [
        {
          "data": {
            "text/plain": [
              "(11073, 4)"
            ]
          },
          "execution_count": 70,
          "metadata": {},
          "output_type": "execute_result"
        }
      ],
      "source": [
        "df = df.drop(index=df.index[tamil_idx])\n",
        "\n",
        "df = df.reset_index(drop=True)\n",
        "\n",
        "df.shape"
      ]
    },
    {
      "cell_type": "code",
      "execution_count": 71,
      "metadata": {
        "colab": {
          "base_uri": "https://localhost:8080/"
        },
        "id": "eti-ogtEhr82",
        "outputId": "ace54abc-9d86-45a2-daa7-c69fe6cfd4a1"
      },
      "outputs": [
        {
          "name": "stdout",
          "output_type": "stream",
          "text": [
            "36\n"
          ]
        },
        {
          "data": {
            "text/plain": [
              "(11073, 4)"
            ]
          },
          "execution_count": 71,
          "metadata": {},
          "output_type": "execute_result"
        }
      ],
      "source": [
        "\n",
        "english_idx = []\n",
        "for idx , i in enumerate(df['Tokenized_English']):\n",
        "    if len(i) > 24:\n",
        "        english_idx.append(idx)\n",
        "\n",
        "print(len(english_idx))\n",
        "\n",
        "df.shape"
      ]
    },
    {
      "cell_type": "code",
      "execution_count": 72,
      "metadata": {
        "colab": {
          "base_uri": "https://localhost:8080/"
        },
        "id": "aZi-SXFvh2xW",
        "outputId": "4b401539-3953-48c5-b740-5506d90cb615"
      },
      "outputs": [
        {
          "data": {
            "text/plain": [
              "(11037, 4)"
            ]
          },
          "execution_count": 72,
          "metadata": {},
          "output_type": "execute_result"
        }
      ],
      "source": [
        "df = df.drop(index=df.index[english_idx])\n",
        "\n",
        "df = df.reset_index(drop=True)\n",
        "\n",
        "df.shape"
      ]
    },
    {
      "cell_type": "code",
      "execution_count": 73,
      "metadata": {
        "colab": {
          "base_uri": "https://localhost:8080/",
          "height": 649
        },
        "id": "WPcwIR4eiHF1",
        "outputId": "da3cf359-e237-469a-dcad-2d03afc8f03e"
      },
      "outputs": [
        {
          "data": {
            "text/html": [
              "<div>\n",
              "<style scoped>\n",
              "    .dataframe tbody tr th:only-of-type {\n",
              "        vertical-align: middle;\n",
              "    }\n",
              "\n",
              "    .dataframe tbody tr th {\n",
              "        vertical-align: top;\n",
              "    }\n",
              "\n",
              "    .dataframe thead th {\n",
              "        text-align: right;\n",
              "    }\n",
              "</style>\n",
              "<table border=\"1\" class=\"dataframe\">\n",
              "  <thead>\n",
              "    <tr style=\"text-align: right;\">\n",
              "      <th></th>\n",
              "      <th>English</th>\n",
              "      <th>Tamil</th>\n",
              "      <th>Tokenized_Tamil</th>\n",
              "      <th>Tokenized_English</th>\n",
              "      <th>Padded_English</th>\n",
              "      <th>Padded_Tamil</th>\n",
              "      <th>Padded_Tamil_Target</th>\n",
              "    </tr>\n",
              "  </thead>\n",
              "  <tbody>\n",
              "    <tr>\n",
              "      <th>0</th>\n",
              "      <td>Lets try something</td>\n",
              "      <td>ஏதாவது முயற்சி செய்யலாம்</td>\n",
              "      <td>[4, 5, 6]</td>\n",
              "      <td>[4, 5, 6]</td>\n",
              "      <td>[2, 4, 5, 6, 3, 1, 1, 1, 1, 1, 1, 1, 1, 1, 1, ...</td>\n",
              "      <td>[2, 4, 5, 6, 1, 1, 1, 1, 1, 1, 1, 1, 1, 1, 1, ...</td>\n",
              "      <td>[4, 5, 6, 3, 1, 1, 1, 1, 1, 1, 1, 1, 1, 1, 1, ...</td>\n",
              "    </tr>\n",
              "    <tr>\n",
              "      <th>1</th>\n",
              "      <td>I have to go to sleep</td>\n",
              "      <td>நான் தூங்க செல்ல வேண்டும்</td>\n",
              "      <td>[7, 8, 9, 10]</td>\n",
              "      <td>[7, 8, 9, 10, 9, 11]</td>\n",
              "      <td>[2, 7, 8, 9, 10, 9, 11, 3, 1, 1, 1, 1, 1, 1, 1...</td>\n",
              "      <td>[2, 7, 8, 9, 10, 1, 1, 1, 1, 1, 1, 1, 1, 1, 1,...</td>\n",
              "      <td>[7, 8, 9, 10, 3, 1, 1, 1, 1, 1, 1, 1, 1, 1, 1,...</td>\n",
              "    </tr>\n",
              "    <tr>\n",
              "      <th>2</th>\n",
              "      <td>Today is June 18th and it is Muiriels birthday</td>\n",
              "      <td>இன்று ஜூன் 18 மற்றும் முரியலின் பிறந்த நாள்</td>\n",
              "      <td>[11, 12, 13, 14, 15, 16, 17]</td>\n",
              "      <td>[12, 13, 14, 15, 16, 17, 13, 18, 19]</td>\n",
              "      <td>[2, 12, 13, 14, 15, 16, 17, 13, 18, 19, 3, 1, ...</td>\n",
              "      <td>[2, 11, 12, 13, 14, 15, 16, 17, 1, 1, 1, 1, 1,...</td>\n",
              "      <td>[11, 12, 13, 14, 15, 16, 17, 3, 1, 1, 1, 1, 1,...</td>\n",
              "    </tr>\n",
              "    <tr>\n",
              "      <th>3</th>\n",
              "      <td>Muiriel is 20 now</td>\n",
              "      <td>முரியலுக்கு இப்போது 20 வயது</td>\n",
              "      <td>[18, 19, 20, 21]</td>\n",
              "      <td>[20, 13, 21, 22]</td>\n",
              "      <td>[2, 20, 13, 21, 22, 3, 1, 1, 1, 1, 1, 1, 1, 1,...</td>\n",
              "      <td>[2, 18, 19, 20, 21, 1, 1, 1, 1, 1, 1, 1, 1, 1,...</td>\n",
              "      <td>[18, 19, 20, 21, 3, 1, 1, 1, 1, 1, 1, 1, 1, 1,...</td>\n",
              "    </tr>\n",
              "    <tr>\n",
              "      <th>4</th>\n",
              "      <td>The password is Muiriel</td>\n",
              "      <td>கடவுச்சொல் முரியல்</td>\n",
              "      <td>[22, 23]</td>\n",
              "      <td>[23, 24, 13, 20]</td>\n",
              "      <td>[2, 23, 24, 13, 20, 3, 1, 1, 1, 1, 1, 1, 1, 1,...</td>\n",
              "      <td>[2, 22, 23, 1, 1, 1, 1, 1, 1, 1, 1, 1, 1, 1, 1...</td>\n",
              "      <td>[22, 23, 3, 1, 1, 1, 1, 1, 1, 1, 1, 1, 1, 1, 1...</td>\n",
              "    </tr>\n",
              "    <tr>\n",
              "      <th>...</th>\n",
              "      <td>...</td>\n",
              "      <td>...</td>\n",
              "      <td>...</td>\n",
              "      <td>...</td>\n",
              "      <td>...</td>\n",
              "      <td>...</td>\n",
              "      <td>...</td>\n",
              "    </tr>\n",
              "    <tr>\n",
              "      <th>11032</th>\n",
              "      <td>Dont speak to the driver while he is driving</td>\n",
              "      <td>வாகனம் ஓட்டும் போது ஓட்டுனரிடம் பேச வேண்டாம்</td>\n",
              "      <td>[3724, 15517, 741, 15520, 1215, 797]</td>\n",
              "      <td>[487, 491, 9, 50, 7118, 481, 89, 13, 1678]</td>\n",
              "      <td>[2, 487, 491, 9, 50, 7118, 481, 89, 13, 1678, ...</td>\n",
              "      <td>[2, 3724, 15517, 741, 15520, 1215, 797, 1, 1, ...</td>\n",
              "      <td>[3724, 15517, 741, 15520, 1215, 797, 3, 1, 1, ...</td>\n",
              "    </tr>\n",
              "    <tr>\n",
              "      <th>11033</th>\n",
              "      <td>The driver was inattentive and could not stop ...</td>\n",
              "      <td>டிரைவர் கவனக்குறைவாக இருந்ததால் சரியான நேரத்தி...</td>\n",
              "      <td>[15521, 3850, 751, 465, 2632, 2354, 2246]</td>\n",
              "      <td>[23, 7118, 45, 8096, 16, 149, 96, 2074, 49, 56]</td>\n",
              "      <td>[2, 23, 7118, 45, 8096, 16, 149, 96, 2074, 49,...</td>\n",
              "      <td>[2, 15521, 3850, 751, 465, 2632, 2354, 2246, 1...</td>\n",
              "      <td>[15521, 3850, 751, 465, 2632, 2354, 2246, 3, 1...</td>\n",
              "    </tr>\n",
              "    <tr>\n",
              "      <th>11034</th>\n",
              "      <td>The driver could not distinguish the signal in...</td>\n",
              "      <td>டிரைவரால் மூடுபனியில் சிக்னலை வேறுபடுத்திப் பா...</td>\n",
              "      <td>[15522, 15523, 15524, 3612, 502, 2246]</td>\n",
              "      <td>[23, 7118, 149, 96, 2531, 50, 8097, 49, 50, 3566]</td>\n",
              "      <td>[2, 23, 7118, 149, 96, 2531, 50, 8097, 49, 50,...</td>\n",
              "      <td>[2, 15522, 15523, 15524, 3612, 502, 2246, 1, 1...</td>\n",
              "      <td>[15522, 15523, 15524, 3612, 502, 2246, 3, 1, 1...</td>\n",
              "    </tr>\n",
              "    <tr>\n",
              "      <th>11035</th>\n",
              "      <td>The driver tipped his cap</td>\n",
              "      <td>டிரைவர் தொப்பியை சாய்த்தார்</td>\n",
              "      <td>[15521, 15525, 15526]</td>\n",
              "      <td>[23, 7118, 8098, 886, 6047]</td>\n",
              "      <td>[2, 23, 7118, 8098, 886, 6047, 3, 1, 1, 1, 1, ...</td>\n",
              "      <td>[2, 15521, 15525, 15526, 1, 1, 1, 1, 1, 1, 1, ...</td>\n",
              "      <td>[15521, 15525, 15526, 3, 1, 1, 1, 1, 1, 1, 1, ...</td>\n",
              "    </tr>\n",
              "    <tr>\n",
              "      <th>11036</th>\n",
              "      <td>The driver gestured him out</td>\n",
              "      <td>ஓட்டுனர் சைகையால் வெளியே காட்டினார்</td>\n",
              "      <td>[15527, 15528, 758, 8712]</td>\n",
              "      <td>[23, 7118, 8099, 216, 695]</td>\n",
              "      <td>[2, 23, 7118, 8099, 216, 695, 3, 1, 1, 1, 1, 1...</td>\n",
              "      <td>[2, 15527, 15528, 758, 8712, 1, 1, 1, 1, 1, 1,...</td>\n",
              "      <td>[15527, 15528, 758, 8712, 3, 1, 1, 1, 1, 1, 1,...</td>\n",
              "    </tr>\n",
              "  </tbody>\n",
              "</table>\n",
              "<p>11037 rows × 7 columns</p>\n",
              "</div>"
            ],
            "text/plain": [
              "                                                 English  \\\n",
              "0                                     Lets try something   \n",
              "1                                  I have to go to sleep   \n",
              "2         Today is June 18th and it is Muiriels birthday   \n",
              "3                                      Muiriel is 20 now   \n",
              "4                                The password is Muiriel   \n",
              "...                                                  ...   \n",
              "11032       Dont speak to the driver while he is driving   \n",
              "11033  The driver was inattentive and could not stop ...   \n",
              "11034  The driver could not distinguish the signal in...   \n",
              "11035                          The driver tipped his cap   \n",
              "11036                        The driver gestured him out   \n",
              "\n",
              "                                                   Tamil  \\\n",
              "0                               ஏதாவது முயற்சி செய்யலாம்   \n",
              "1                              நான் தூங்க செல்ல வேண்டும்   \n",
              "2            இன்று ஜூன் 18 மற்றும் முரியலின் பிறந்த நாள்   \n",
              "3                            முரியலுக்கு இப்போது 20 வயது   \n",
              "4                                     கடவுச்சொல் முரியல்   \n",
              "...                                                  ...   \n",
              "11032       வாகனம் ஓட்டும் போது ஓட்டுனரிடம் பேச வேண்டாம்   \n",
              "11033  டிரைவர் கவனக்குறைவாக இருந்ததால் சரியான நேரத்தி...   \n",
              "11034  டிரைவரால் மூடுபனியில் சிக்னலை வேறுபடுத்திப் பா...   \n",
              "11035                        டிரைவர் தொப்பியை சாய்த்தார்   \n",
              "11036                ஓட்டுனர் சைகையால் வெளியே காட்டினார்   \n",
              "\n",
              "                                 Tokenized_Tamil  \\\n",
              "0                                      [4, 5, 6]   \n",
              "1                                  [7, 8, 9, 10]   \n",
              "2                   [11, 12, 13, 14, 15, 16, 17]   \n",
              "3                               [18, 19, 20, 21]   \n",
              "4                                       [22, 23]   \n",
              "...                                          ...   \n",
              "11032       [3724, 15517, 741, 15520, 1215, 797]   \n",
              "11033  [15521, 3850, 751, 465, 2632, 2354, 2246]   \n",
              "11034     [15522, 15523, 15524, 3612, 502, 2246]   \n",
              "11035                      [15521, 15525, 15526]   \n",
              "11036                  [15527, 15528, 758, 8712]   \n",
              "\n",
              "                                       Tokenized_English  \\\n",
              "0                                              [4, 5, 6]   \n",
              "1                                   [7, 8, 9, 10, 9, 11]   \n",
              "2                   [12, 13, 14, 15, 16, 17, 13, 18, 19]   \n",
              "3                                       [20, 13, 21, 22]   \n",
              "4                                       [23, 24, 13, 20]   \n",
              "...                                                  ...   \n",
              "11032         [487, 491, 9, 50, 7118, 481, 89, 13, 1678]   \n",
              "11033    [23, 7118, 45, 8096, 16, 149, 96, 2074, 49, 56]   \n",
              "11034  [23, 7118, 149, 96, 2531, 50, 8097, 49, 50, 3566]   \n",
              "11035                        [23, 7118, 8098, 886, 6047]   \n",
              "11036                         [23, 7118, 8099, 216, 695]   \n",
              "\n",
              "                                          Padded_English  \\\n",
              "0      [2, 4, 5, 6, 3, 1, 1, 1, 1, 1, 1, 1, 1, 1, 1, ...   \n",
              "1      [2, 7, 8, 9, 10, 9, 11, 3, 1, 1, 1, 1, 1, 1, 1...   \n",
              "2      [2, 12, 13, 14, 15, 16, 17, 13, 18, 19, 3, 1, ...   \n",
              "3      [2, 20, 13, 21, 22, 3, 1, 1, 1, 1, 1, 1, 1, 1,...   \n",
              "4      [2, 23, 24, 13, 20, 3, 1, 1, 1, 1, 1, 1, 1, 1,...   \n",
              "...                                                  ...   \n",
              "11032  [2, 487, 491, 9, 50, 7118, 481, 89, 13, 1678, ...   \n",
              "11033  [2, 23, 7118, 45, 8096, 16, 149, 96, 2074, 49,...   \n",
              "11034  [2, 23, 7118, 149, 96, 2531, 50, 8097, 49, 50,...   \n",
              "11035  [2, 23, 7118, 8098, 886, 6047, 3, 1, 1, 1, 1, ...   \n",
              "11036  [2, 23, 7118, 8099, 216, 695, 3, 1, 1, 1, 1, 1...   \n",
              "\n",
              "                                            Padded_Tamil  \\\n",
              "0      [2, 4, 5, 6, 1, 1, 1, 1, 1, 1, 1, 1, 1, 1, 1, ...   \n",
              "1      [2, 7, 8, 9, 10, 1, 1, 1, 1, 1, 1, 1, 1, 1, 1,...   \n",
              "2      [2, 11, 12, 13, 14, 15, 16, 17, 1, 1, 1, 1, 1,...   \n",
              "3      [2, 18, 19, 20, 21, 1, 1, 1, 1, 1, 1, 1, 1, 1,...   \n",
              "4      [2, 22, 23, 1, 1, 1, 1, 1, 1, 1, 1, 1, 1, 1, 1...   \n",
              "...                                                  ...   \n",
              "11032  [2, 3724, 15517, 741, 15520, 1215, 797, 1, 1, ...   \n",
              "11033  [2, 15521, 3850, 751, 465, 2632, 2354, 2246, 1...   \n",
              "11034  [2, 15522, 15523, 15524, 3612, 502, 2246, 1, 1...   \n",
              "11035  [2, 15521, 15525, 15526, 1, 1, 1, 1, 1, 1, 1, ...   \n",
              "11036  [2, 15527, 15528, 758, 8712, 1, 1, 1, 1, 1, 1,...   \n",
              "\n",
              "                                     Padded_Tamil_Target  \n",
              "0      [4, 5, 6, 3, 1, 1, 1, 1, 1, 1, 1, 1, 1, 1, 1, ...  \n",
              "1      [7, 8, 9, 10, 3, 1, 1, 1, 1, 1, 1, 1, 1, 1, 1,...  \n",
              "2      [11, 12, 13, 14, 15, 16, 17, 3, 1, 1, 1, 1, 1,...  \n",
              "3      [18, 19, 20, 21, 3, 1, 1, 1, 1, 1, 1, 1, 1, 1,...  \n",
              "4      [22, 23, 3, 1, 1, 1, 1, 1, 1, 1, 1, 1, 1, 1, 1...  \n",
              "...                                                  ...  \n",
              "11032  [3724, 15517, 741, 15520, 1215, 797, 3, 1, 1, ...  \n",
              "11033  [15521, 3850, 751, 465, 2632, 2354, 2246, 3, 1...  \n",
              "11034  [15522, 15523, 15524, 3612, 502, 2246, 3, 1, 1...  \n",
              "11035  [15521, 15525, 15526, 3, 1, 1, 1, 1, 1, 1, 1, ...  \n",
              "11036  [15527, 15528, 758, 8712, 3, 1, 1, 1, 1, 1, 1,...  \n",
              "\n",
              "[11037 rows x 7 columns]"
            ]
          },
          "execution_count": 73,
          "metadata": {},
          "output_type": "execute_result"
        }
      ],
      "source": [
        "import numpy as np\n",
        "\n",
        "# Example of the maximum padding length\n",
        "max_pad = 24\n",
        "cls_token = 2\n",
        "sep_token = 3\n",
        "\n",
        "# Function to pad sequences\n",
        "def pad_sequence_source(tokens, max_len, cls_token=2,sep_token = 3):\n",
        "    # Add the cls token at the beginning\n",
        "    padded_tokens = [cls_token] + tokens + [sep_token]\n",
        "    #padded_tokens = padded_tokens + [sep_token]\n",
        "\n",
        "    # Pad the sequence if it's shorter than max_len\n",
        "    if len(padded_tokens) < max_len:\n",
        "        padded_tokens.extend([1] * (max_len - len(padded_tokens)))\n",
        "    # Truncate if it's longer than max_len\n",
        "    else:\n",
        "        padded_tokens = padded_tokens[:max_len]\n",
        "\n",
        "    return padded_tokens\n",
        "\n",
        "def pad_sequence_target(tokens, max_len, cls_token = 2):\n",
        "    # Add the cls token at the beginning\n",
        "    padded_tokens = [cls_token] + tokens\n",
        "\n",
        "    # Pad the sequence if it's shorter than max_len\n",
        "    if len(padded_tokens) < max_len:\n",
        "        padded_tokens.extend([1] * (max_len - len(padded_tokens)))\n",
        "    # Truncate if it's longer than max_len\n",
        "    else:\n",
        "        padded_tokens = padded_tokens[:max_len]\n",
        "\n",
        "    return padded_tokens\n",
        "\n",
        "def pad_sequence_label(tokens, max_len, sep_token = 3):\n",
        "    # Add the cls token at the beginning\n",
        "    padded_tokens = tokens + [sep_token]\n",
        "\n",
        "    # Pad the sequence if it's shorter than max_len\n",
        "    if len(padded_tokens) < max_len:\n",
        "        padded_tokens.extend([1] * (max_len - len(padded_tokens)))\n",
        "    # Truncate if it's longer than max_len\n",
        "    else:\n",
        "        padded_tokens = padded_tokens[:max_len]\n",
        "\n",
        "    return padded_tokens\n",
        "\n",
        "# Apply padding and add CLS token to both English and Tamil columns\n",
        "df['Padded_English'] = df['Tokenized_English'].apply(lambda x: pad_sequence_source(x, max_pad, cls_token,sep_token))\n",
        "df['Padded_Tamil'] = df['Tokenized_Tamil'].apply(lambda x: pad_sequence_target(x, max_pad, cls_token))\n",
        "df['Padded_Tamil_Target'] = df['Tokenized_Tamil'].apply(lambda x: pad_sequence_label(x, max_pad,sep_token))\n",
        "# Verify the result\n",
        "#print(df[['Padded_English', 'Padded_Tamil','Padded_Tamil_Target']].head(-10))\n",
        "df"
      ]
    },
    {
      "cell_type": "code",
      "execution_count": 28,
      "metadata": {
        "colab": {
          "base_uri": "https://localhost:8080/"
        },
        "id": "EF922fPPCCM8",
        "outputId": "3d96bd6c-c651-427d-ef27-34ce4728f9a9"
      },
      "outputs": [
        {
          "name": "stdout",
          "output_type": "stream",
          "text": [
            "Train DataFrame:\n",
            "8829\n",
            "\n",
            "Test DataFrame:\n",
            "2208\n"
          ]
        }
      ],
      "source": [
        "'''import pandas as pd\n",
        "\n",
        "# Find the midpoint\n",
        "threshold = int(len(df)*0.8)\n",
        "\n",
        "# Split into two halves\n",
        "train = df.iloc[:threshold]\n",
        "test = df.iloc[threshold:]\n",
        "\n",
        "print(\"Train DataFrame:\")\n",
        "print(len(train))\n",
        "print(\"\\nTest DataFrame:\")\n",
        "print(len(test))'''\n",
        "\n"
      ]
    },
    {
      "cell_type": "code",
      "execution_count": 74,
      "metadata": {},
      "outputs": [
        {
          "name": "stdout",
          "output_type": "stream",
          "text": [
            "                                                 English  \\\n",
            "0                                        Congratulations   \n",
            "1                                                 Action   \n",
            "2                                           Check please   \n",
            "3                                             Never mind   \n",
            "4                                              Forget it   \n",
            "...                                                  ...   \n",
            "11031  Your technical manager arranged a meeting for ...   \n",
            "11032  Yoshio said he would pay as much as 15000 yen ...   \n",
            "11033  Im going to speak to you with utmost candor so...   \n",
            "11034  Every mans work whether it be literature or mu...   \n",
            "11035  Meetings are to be held on the afternoon of Ju...   \n",
            "\n",
            "                                                   Tamil  \\\n",
            "0                                            வாழ்த்துகள்   \n",
            "1                                                 அதிரடி   \n",
            "2                                         சரிபார்க்கவும்   \n",
            "3                                             பரவாயில்லை   \n",
            "4                                             மறந்துவிடு   \n",
            "...                                                  ...   \n",
            "11031  உங்கள் தொழில்நுட்ப மேலாளர் மதியம் 100 மணிக்கு ...   \n",
            "11032  யோஷியோ ஒரு புதிய ஜோடி கூடைப்பந்து காலணிகளுக்கு...   \n",
            "11033  நான் உன்னிடம் மிகுந்த நேர்மையுடன் பேசப் போகிறே...   \n",
            "11034  ஒவ்வொரு மனிதனின் படைப்பும் அது இலக்கியமாக இருந...   \n",
            "11035  ஜூலை 15 செவ்வாய்கிழமை மதியம் ஜூலை 16 புதன்கிழம...   \n",
            "\n",
            "                                         Tokenized_Tamil  \\\n",
            "0                                                  [499]   \n",
            "1                                                [15044]   \n",
            "2                                                 [2603]   \n",
            "3                                                 [5441]   \n",
            "4                                                 [3238]   \n",
            "...                                                  ...   \n",
            "11031  [335, 8698, 8860, 2336, 63, 263, 36, 6837, 597...   \n",
            "11032  [8550, 36, 271, 5835, 8666, 5836, 8667, 5327, ...   \n",
            "11033  [7, 392, 1399, 6931, 7814, 113, 194, 7, 7815, ...   \n",
            "11034  [286, 2750, 3223, 35, 3224, 326, 764, 3225, 32...   \n",
            "11035  [3313, 7276, 11888, 2336, 3313, 11889, 11890, ...   \n",
            "\n",
            "                                       Tokenized_English  \\\n",
            "0                                                  [452]   \n",
            "1                                                 [7901]   \n",
            "2                                            [1956, 650]   \n",
            "3                                            [1692, 549]   \n",
            "4                                             [2336, 17]   \n",
            "...                                                  ...   \n",
            "11031  [1031, 5104, 5105, 3562, 31, 2507, 33, 74, 363...   \n",
            "11032  [4918, 200, 89, 230, 1697, 565, 350, 565, 4987...   \n",
            "11033  [29, 37, 9, 491, 9, 83, 131, 4565, 4061, 129, ...   \n",
            "11034  [286, 2063, 561, 598, 17, 26, 2330, 443, 591, ...   \n",
            "11035  [6569, 68, 9, 26, 3779, 192, 50, 1780, 136, 23...   \n",
            "\n",
            "                                          Padded_English  \\\n",
            "0      [2, 452, 3, 1, 1, 1, 1, 1, 1, 1, 1, 1, 1, 1, 1...   \n",
            "1      [2, 7901, 3, 1, 1, 1, 1, 1, 1, 1, 1, 1, 1, 1, ...   \n",
            "2      [2, 1956, 650, 3, 1, 1, 1, 1, 1, 1, 1, 1, 1, 1...   \n",
            "3      [2, 1692, 549, 3, 1, 1, 1, 1, 1, 1, 1, 1, 1, 1...   \n",
            "4      [2, 2336, 17, 3, 1, 1, 1, 1, 1, 1, 1, 1, 1, 1,...   \n",
            "...                                                  ...   \n",
            "11031  [2, 1031, 5104, 5105, 3562, 31, 2507, 33, 74, ...   \n",
            "11032  [2, 4918, 200, 89, 230, 1697, 565, 350, 565, 4...   \n",
            "11033  [2, 29, 37, 9, 491, 9, 83, 131, 4565, 4061, 12...   \n",
            "11034  [2, 286, 2063, 561, 598, 17, 26, 2330, 443, 59...   \n",
            "11035  [2, 6569, 68, 9, 26, 3779, 192, 50, 1780, 136,...   \n",
            "\n",
            "                                            Padded_Tamil  \\\n",
            "0      [2, 499, 1, 1, 1, 1, 1, 1, 1, 1, 1, 1, 1, 1, 1...   \n",
            "1      [2, 15044, 1, 1, 1, 1, 1, 1, 1, 1, 1, 1, 1, 1,...   \n",
            "2      [2, 2603, 1, 1, 1, 1, 1, 1, 1, 1, 1, 1, 1, 1, ...   \n",
            "3      [2, 5441, 1, 1, 1, 1, 1, 1, 1, 1, 1, 1, 1, 1, ...   \n",
            "4      [2, 3238, 1, 1, 1, 1, 1, 1, 1, 1, 1, 1, 1, 1, ...   \n",
            "...                                                  ...   \n",
            "11031  [2, 335, 8698, 8860, 2336, 63, 263, 36, 6837, ...   \n",
            "11032  [2, 8550, 36, 271, 5835, 8666, 5836, 8667, 532...   \n",
            "11033  [2, 7, 392, 1399, 6931, 7814, 113, 194, 7, 781...   \n",
            "11034  [2, 286, 2750, 3223, 35, 3224, 326, 764, 3225,...   \n",
            "11035  [2, 3313, 7276, 11888, 2336, 3313, 11889, 1189...   \n",
            "\n",
            "                                     Padded_Tamil_Target  total_token_length  \n",
            "0      [499, 3, 1, 1, 1, 1, 1, 1, 1, 1, 1, 1, 1, 1, 1...                   2  \n",
            "1      [15044, 3, 1, 1, 1, 1, 1, 1, 1, 1, 1, 1, 1, 1,...                   2  \n",
            "2      [2603, 3, 1, 1, 1, 1, 1, 1, 1, 1, 1, 1, 1, 1, ...                   3  \n",
            "3      [5441, 3, 1, 1, 1, 1, 1, 1, 1, 1, 1, 1, 1, 1, ...                   3  \n",
            "4      [3238, 3, 1, 1, 1, 1, 1, 1, 1, 1, 1, 1, 1, 1, ...                   3  \n",
            "...                                                  ...                 ...  \n",
            "11031  [335, 8698, 8860, 2336, 63, 263, 36, 6837, 597...                  41  \n",
            "11032  [8550, 36, 271, 5835, 8666, 5836, 8667, 5327, ...                  42  \n",
            "11033  [7, 392, 1399, 6931, 7814, 113, 194, 7, 7815, ...                  42  \n",
            "11034  [286, 2750, 3223, 35, 3224, 326, 764, 3225, 32...                  43  \n",
            "11035  [3313, 7276, 11888, 2336, 3313, 11889, 11890, ...                  43  \n",
            "\n",
            "[11036 rows x 8 columns]\n"
          ]
        }
      ],
      "source": [
        "# Add a new column for the combined length of English and Tamil tokens\n",
        "df[\"total_token_length\"] = df[\"Tokenized_English\"].apply(len) + df[\"Tokenized_Tamil\"].apply(len)\n",
        "\n",
        "# Sort the DataFrame by the total token length\n",
        "df_sorted = df.sort_values(by=\"total_token_length\")\n",
        "\n",
        "# Reset the index for the sorted DataFrame\n",
        "df_sorted.reset_index(drop=True, inplace=True)\n",
        "\n",
        "print(df_sorted.head(-1))"
      ]
    },
    {
      "cell_type": "code",
      "execution_count": 77,
      "metadata": {},
      "outputs": [],
      "source": [
        "level1 = df_sorted[:3500]\n",
        "\n",
        "level2 = df_sorted[:7000]\n",
        "\n",
        "level3 = df_sorted"
      ]
    },
    {
      "cell_type": "code",
      "execution_count": 78,
      "metadata": {
        "id": "xhaYFGS8kUXX"
      },
      "outputs": [],
      "source": [
        "import torch\n",
        "from torch.utils.data import Dataset\n",
        "\n",
        "class TranslationDataset(Dataset):\n",
        "    def __init__(self, dataframe, pad_token=1):\n",
        "        self.dataframe = dataframe\n",
        "        self.pad_token = pad_token  # Padding value, typically 0\n",
        "\n",
        "    def __len__(self):\n",
        "        return len(self.dataframe)\n",
        "\n",
        "    def __getitem__(self, idx):\n",
        "        # Get the tokenized sequences for English and Tamil\n",
        "        english =  self.dataframe.iloc[idx][\"English\"]\n",
        "        tamil =  self.dataframe.iloc[idx][\"Tamil\"]\n",
        "        english_tokens =  torch.tensor(self.dataframe.iloc[idx][\"Padded_English\"],  dtype=torch.long)  # Shape: (T_english,)\n",
        "        tamil_tokens = torch.tensor(self.dataframe.iloc[idx][\"Padded_Tamil\"],  dtype=torch.long)   # Shape: (T_tamil,)\n",
        "        tamil_target_tokens = torch.tensor(self.dataframe.iloc[idx][\"Padded_Tamil_Target\"],  dtype=torch.long)   # Shape: (T_tamil_target,)\n",
        "\n",
        "\n",
        "        def causal_mask(size):\n",
        "              mask = torch.triu(torch.ones((1, size, size)), diagonal=1).type(torch.int)\n",
        "              return mask == 0\n",
        "    # Return the sequence and masks in a dictionary\n",
        "        return {\n",
        "            \"english\": english,\n",
        "            \"tamil\": tamil,\n",
        "            \"english_token\": english_tokens.clone(),\n",
        "            \"tamil_token\": tamil_tokens.clone(),\n",
        "            \"tamil_target\": tamil_target_tokens.clone(),\n",
        "            \"encoder_mask\": (english_tokens != self.pad_token).unsqueeze(0).unsqueeze(0).int().clone(),\n",
        "            \"decoder_mask\": (tamil_tokens != self.pad_token).unsqueeze(0).int() & causal_mask(tamil_tokens.size(0)).clone(),\n",
        "\n",
        "        }"
      ]
    },
    {
      "cell_type": "code",
      "execution_count": 82,
      "metadata": {
        "colab": {
          "base_uri": "https://localhost:8080/"
        },
        "id": "ueABUeLQkaJe",
        "outputId": "cb437299-d97b-4b6f-903e-1ba816f3af5a"
      },
      "outputs": [
        {
          "name": "stdout",
          "output_type": "stream",
          "text": [
            "Batch 1:\n",
            "  English sequence shape: The swimmer raised his head and gasped for breath\n",
            "  Tamil sequence shape: நீச்சல்காரன் தலையை உயர்த்தி மூச்சு வாங்கினான்\n",
            "  English token shape: tensor([   2,   23, 6079, 4256,  886, 3429,   16, 5059,   33, 2522,    3,    1,\n",
            "           1,    1,    1,    1,    1,    1,    1,    1,    1,    1,    1,    1])\n",
            "  tamil token shape: torch.Size([32, 24])\n",
            "  Tamil target sequence shape: tensor([15371,  7495, 10653,  8374, 15372,     3,     1,     1,     1,     1,\n",
            "            1,     1,     1,     1,     1,     1,     1,     1,     1,     1,\n",
            "            1,     1,     1,     1])\n",
            "  English pad mask shape: tensor([[[1, 1, 1, 1, 1, 1, 1, 1, 1, 1, 1, 0, 0, 0, 0, 0, 0, 0, 0, 0, 0, 0, 0,\n",
            "          0]]], dtype=torch.int32)\n",
            "  Combined Tamil mask shape: tensor([[[1, 0, 0, 0, 0, 0, 0, 0, 0, 0, 0, 0, 0, 0, 0, 0, 0, 0, 0, 0, 0, 0, 0,\n",
            "          0],\n",
            "         [1, 1, 0, 0, 0, 0, 0, 0, 0, 0, 0, 0, 0, 0, 0, 0, 0, 0, 0, 0, 0, 0, 0,\n",
            "          0],\n",
            "         [1, 1, 1, 0, 0, 0, 0, 0, 0, 0, 0, 0, 0, 0, 0, 0, 0, 0, 0, 0, 0, 0, 0,\n",
            "          0],\n",
            "         [1, 1, 1, 1, 0, 0, 0, 0, 0, 0, 0, 0, 0, 0, 0, 0, 0, 0, 0, 0, 0, 0, 0,\n",
            "          0],\n",
            "         [1, 1, 1, 1, 1, 0, 0, 0, 0, 0, 0, 0, 0, 0, 0, 0, 0, 0, 0, 0, 0, 0, 0,\n",
            "          0],\n",
            "         [1, 1, 1, 1, 1, 1, 0, 0, 0, 0, 0, 0, 0, 0, 0, 0, 0, 0, 0, 0, 0, 0, 0,\n",
            "          0],\n",
            "         [1, 1, 1, 1, 1, 1, 0, 0, 0, 0, 0, 0, 0, 0, 0, 0, 0, 0, 0, 0, 0, 0, 0,\n",
            "          0],\n",
            "         [1, 1, 1, 1, 1, 1, 0, 0, 0, 0, 0, 0, 0, 0, 0, 0, 0, 0, 0, 0, 0, 0, 0,\n",
            "          0],\n",
            "         [1, 1, 1, 1, 1, 1, 0, 0, 0, 0, 0, 0, 0, 0, 0, 0, 0, 0, 0, 0, 0, 0, 0,\n",
            "          0],\n",
            "         [1, 1, 1, 1, 1, 1, 0, 0, 0, 0, 0, 0, 0, 0, 0, 0, 0, 0, 0, 0, 0, 0, 0,\n",
            "          0],\n",
            "         [1, 1, 1, 1, 1, 1, 0, 0, 0, 0, 0, 0, 0, 0, 0, 0, 0, 0, 0, 0, 0, 0, 0,\n",
            "          0],\n",
            "         [1, 1, 1, 1, 1, 1, 0, 0, 0, 0, 0, 0, 0, 0, 0, 0, 0, 0, 0, 0, 0, 0, 0,\n",
            "          0],\n",
            "         [1, 1, 1, 1, 1, 1, 0, 0, 0, 0, 0, 0, 0, 0, 0, 0, 0, 0, 0, 0, 0, 0, 0,\n",
            "          0],\n",
            "         [1, 1, 1, 1, 1, 1, 0, 0, 0, 0, 0, 0, 0, 0, 0, 0, 0, 0, 0, 0, 0, 0, 0,\n",
            "          0],\n",
            "         [1, 1, 1, 1, 1, 1, 0, 0, 0, 0, 0, 0, 0, 0, 0, 0, 0, 0, 0, 0, 0, 0, 0,\n",
            "          0],\n",
            "         [1, 1, 1, 1, 1, 1, 0, 0, 0, 0, 0, 0, 0, 0, 0, 0, 0, 0, 0, 0, 0, 0, 0,\n",
            "          0],\n",
            "         [1, 1, 1, 1, 1, 1, 0, 0, 0, 0, 0, 0, 0, 0, 0, 0, 0, 0, 0, 0, 0, 0, 0,\n",
            "          0],\n",
            "         [1, 1, 1, 1, 1, 1, 0, 0, 0, 0, 0, 0, 0, 0, 0, 0, 0, 0, 0, 0, 0, 0, 0,\n",
            "          0],\n",
            "         [1, 1, 1, 1, 1, 1, 0, 0, 0, 0, 0, 0, 0, 0, 0, 0, 0, 0, 0, 0, 0, 0, 0,\n",
            "          0],\n",
            "         [1, 1, 1, 1, 1, 1, 0, 0, 0, 0, 0, 0, 0, 0, 0, 0, 0, 0, 0, 0, 0, 0, 0,\n",
            "          0],\n",
            "         [1, 1, 1, 1, 1, 1, 0, 0, 0, 0, 0, 0, 0, 0, 0, 0, 0, 0, 0, 0, 0, 0, 0,\n",
            "          0],\n",
            "         [1, 1, 1, 1, 1, 1, 0, 0, 0, 0, 0, 0, 0, 0, 0, 0, 0, 0, 0, 0, 0, 0, 0,\n",
            "          0],\n",
            "         [1, 1, 1, 1, 1, 1, 0, 0, 0, 0, 0, 0, 0, 0, 0, 0, 0, 0, 0, 0, 0, 0, 0,\n",
            "          0],\n",
            "         [1, 1, 1, 1, 1, 1, 0, 0, 0, 0, 0, 0, 0, 0, 0, 0, 0, 0, 0, 0, 0, 0, 0,\n",
            "          0]]], dtype=torch.int32)\n",
            "Batch 1:\n",
            "  English sequence shape: It is difficult for foreigners to get used to Japanese food\n",
            "  Tamil sequence shape: வெளிநாட்டினர் ஜப்பானிய உணவைப் பழக்கப்படுத்துவது கடினம்\n",
            "  English token shape: tensor([   2,  152,   13,  700,   33, 6166,    9,  380, 1337,    9,  539,  501,\n",
            "           3,    1,    1,    1,    1,    1,    1,    1,    1,    1,    1,    1])\n",
            "  tamil token shape: torch.Size([1, 24])\n",
            "  Tamil target sequence shape: tensor([11057,   611,  5591, 11058,   849,     3,     1,     1,     1,     1,\n",
            "            1,     1,     1,     1,     1,     1,     1,     1,     1,     1,\n",
            "            1,     1,     1,     1])\n",
            "  English pad mask shape: tensor([[[1, 1, 1, 1, 1, 1, 1, 1, 1, 1, 1, 1, 1, 0, 0, 0, 0, 0, 0, 0, 0, 0, 0,\n",
            "          0]]], dtype=torch.int32)\n",
            "  Combined Tamil mask shape: tensor([[[1, 0, 0, 0, 0, 0, 0, 0, 0, 0, 0, 0, 0, 0, 0, 0, 0, 0, 0, 0, 0, 0, 0,\n",
            "          0],\n",
            "         [1, 1, 0, 0, 0, 0, 0, 0, 0, 0, 0, 0, 0, 0, 0, 0, 0, 0, 0, 0, 0, 0, 0,\n",
            "          0],\n",
            "         [1, 1, 1, 0, 0, 0, 0, 0, 0, 0, 0, 0, 0, 0, 0, 0, 0, 0, 0, 0, 0, 0, 0,\n",
            "          0],\n",
            "         [1, 1, 1, 1, 0, 0, 0, 0, 0, 0, 0, 0, 0, 0, 0, 0, 0, 0, 0, 0, 0, 0, 0,\n",
            "          0],\n",
            "         [1, 1, 1, 1, 1, 0, 0, 0, 0, 0, 0, 0, 0, 0, 0, 0, 0, 0, 0, 0, 0, 0, 0,\n",
            "          0],\n",
            "         [1, 1, 1, 1, 1, 1, 0, 0, 0, 0, 0, 0, 0, 0, 0, 0, 0, 0, 0, 0, 0, 0, 0,\n",
            "          0],\n",
            "         [1, 1, 1, 1, 1, 1, 0, 0, 0, 0, 0, 0, 0, 0, 0, 0, 0, 0, 0, 0, 0, 0, 0,\n",
            "          0],\n",
            "         [1, 1, 1, 1, 1, 1, 0, 0, 0, 0, 0, 0, 0, 0, 0, 0, 0, 0, 0, 0, 0, 0, 0,\n",
            "          0],\n",
            "         [1, 1, 1, 1, 1, 1, 0, 0, 0, 0, 0, 0, 0, 0, 0, 0, 0, 0, 0, 0, 0, 0, 0,\n",
            "          0],\n",
            "         [1, 1, 1, 1, 1, 1, 0, 0, 0, 0, 0, 0, 0, 0, 0, 0, 0, 0, 0, 0, 0, 0, 0,\n",
            "          0],\n",
            "         [1, 1, 1, 1, 1, 1, 0, 0, 0, 0, 0, 0, 0, 0, 0, 0, 0, 0, 0, 0, 0, 0, 0,\n",
            "          0],\n",
            "         [1, 1, 1, 1, 1, 1, 0, 0, 0, 0, 0, 0, 0, 0, 0, 0, 0, 0, 0, 0, 0, 0, 0,\n",
            "          0],\n",
            "         [1, 1, 1, 1, 1, 1, 0, 0, 0, 0, 0, 0, 0, 0, 0, 0, 0, 0, 0, 0, 0, 0, 0,\n",
            "          0],\n",
            "         [1, 1, 1, 1, 1, 1, 0, 0, 0, 0, 0, 0, 0, 0, 0, 0, 0, 0, 0, 0, 0, 0, 0,\n",
            "          0],\n",
            "         [1, 1, 1, 1, 1, 1, 0, 0, 0, 0, 0, 0, 0, 0, 0, 0, 0, 0, 0, 0, 0, 0, 0,\n",
            "          0],\n",
            "         [1, 1, 1, 1, 1, 1, 0, 0, 0, 0, 0, 0, 0, 0, 0, 0, 0, 0, 0, 0, 0, 0, 0,\n",
            "          0],\n",
            "         [1, 1, 1, 1, 1, 1, 0, 0, 0, 0, 0, 0, 0, 0, 0, 0, 0, 0, 0, 0, 0, 0, 0,\n",
            "          0],\n",
            "         [1, 1, 1, 1, 1, 1, 0, 0, 0, 0, 0, 0, 0, 0, 0, 0, 0, 0, 0, 0, 0, 0, 0,\n",
            "          0],\n",
            "         [1, 1, 1, 1, 1, 1, 0, 0, 0, 0, 0, 0, 0, 0, 0, 0, 0, 0, 0, 0, 0, 0, 0,\n",
            "          0],\n",
            "         [1, 1, 1, 1, 1, 1, 0, 0, 0, 0, 0, 0, 0, 0, 0, 0, 0, 0, 0, 0, 0, 0, 0,\n",
            "          0],\n",
            "         [1, 1, 1, 1, 1, 1, 0, 0, 0, 0, 0, 0, 0, 0, 0, 0, 0, 0, 0, 0, 0, 0, 0,\n",
            "          0],\n",
            "         [1, 1, 1, 1, 1, 1, 0, 0, 0, 0, 0, 0, 0, 0, 0, 0, 0, 0, 0, 0, 0, 0, 0,\n",
            "          0],\n",
            "         [1, 1, 1, 1, 1, 1, 0, 0, 0, 0, 0, 0, 0, 0, 0, 0, 0, 0, 0, 0, 0, 0, 0,\n",
            "          0],\n",
            "         [1, 1, 1, 1, 1, 1, 0, 0, 0, 0, 0, 0, 0, 0, 0, 0, 0, 0, 0, 0, 0, 0, 0,\n",
            "          0]]], dtype=torch.int32)\n"
          ]
        }
      ],
      "source": [
        "from torch.utils.data import DataLoader\n",
        "\n",
        "# Assuming you have your Dataset class `TranslationDataset` and DataLoader defined\n",
        "# Example DataLoader for your dataset\n",
        "dataset1 = TranslationDataset(level1)  # Your dataframe should be defined\n",
        "train_dataloader_1 = DataLoader(dataset1, batch_size = 32, shuffle=True)  # Set batch_size as needed  # Your dataframe should be defined\n",
        "test_dataloader_1 = DataLoader(dataset1, batch_size=1, shuffle=True)  # Set batch_size as needed\n",
        "\n",
        "dataset2 = TranslationDataset(level2)  # Your dataframe should be defined\n",
        "train_dataloader_2 = DataLoader(dataset2, batch_size = 32, shuffle=True)  # Set batch_size as needed  # Your dataframe should be defined\n",
        "test_dataloader_2 = DataLoader(dataset2, batch_size=1, shuffle=True)  # Set batch_size as needed\n",
        "\n",
        "dataset3 = TranslationDataset(level3)  # Your dataframe should be defined\n",
        "train_dataloader_3 = DataLoader(dataset3, batch_size = 32, shuffle=True)  # Set batch_size as needed  # Your dataframe should be defined\n",
        "test_dataloader_3 = DataLoader(dataset3, batch_size=1, shuffle=True)  # Set batch_size as needed\n",
        "# Iterate through batches\n",
        "for batch_idx, batch in enumerate(train_dataloader_3):\n",
        "    print(f\"Batch {batch_idx + 1}:\")\n",
        "\n",
        "    # Check the shapes of each tensor in the batch\n",
        "    print(f\"  English sequence shape: {batch['english'][0]}\")  # Expected: (batch_size, T_english)\n",
        "    print(f\"  Tamil sequence shape: {batch['tamil'][0]}\")  # Expected: (batch_size, T_tamil)\n",
        "    print(f\"  English token shape: {batch['english_token'][0]}\")  # Expected: (batch_size, T_english)\n",
        "    print(f\"  tamil token shape: {batch['tamil_token'].shape}\")  # Expected: (batch_size, T_english)\n",
        "    print(f\"  Tamil target sequence shape: {batch['tamil_target'][0]}\")  # Expected: (batch_size, T_tamil_target)\n",
        "    print(f\"  English pad mask shape: {batch['encoder_mask'][0]}\")  # Expected: (batch_size, T_english, T_english)\n",
        "    print(f\"  Combined Tamil mask shape: {batch['decoder_mask'][0]}\")  # Expected: (batch_size, T_tamil_target, T_tamil_target)\n",
        "    break\n",
        "    \n",
        "# Iterate through batches\n",
        "for batch_idx, batch in enumerate(test_dataloader_3):\n",
        "    print(f\"Batch {batch_idx + 1}:\")\n",
        "\n",
        "    # Check the shapes of each tensor in the batch\n",
        "    print(f\"  English sequence shape: {batch['english'][0]}\")  # Expected: (batch_size, T_english)\n",
        "    print(f\"  Tamil sequence shape: {batch['tamil'][0]}\")  # Expected: (batch_size, T_tamil)\n",
        "    print(f\"  English token shape: {batch['english_token'][0]}\")  # Expected: (batch_size, T_english)\n",
        "    print(f\"  tamil token shape: {batch['tamil_token'].shape}\")  # Expected: (batch_size, T_english)\n",
        "    print(f\"  Tamil target sequence shape: {batch['tamil_target'][0]}\")  # Expected: (batch_size, T_tamil_target)\n",
        "    print(f\"  English pad mask shape: {batch['encoder_mask'][0]}\")  # Expected: (batch_size, T_english, T_english)\n",
        "    print(f\"  Combined Tamil mask shape: {batch['decoder_mask'][0]}\")  # Expected: (batch_size, T_tamil_target, T_tamil_target)\n",
        "    break\n"
      ]
    },
    {
      "cell_type": "code",
      "execution_count": 83,
      "metadata": {
        "colab": {
          "base_uri": "https://localhost:8080/"
        },
        "id": "PSLGhcoFmxla",
        "outputId": "ab96b1ea-0057-4cb3-e3d6-84b72044a3c0"
      },
      "outputs": [
        {
          "name": "stdout",
          "output_type": "stream",
          "text": [
            "Using device: cuda\n"
          ]
        }
      ],
      "source": [
        "# Check if CUDA is available and set device\n",
        "device = torch.device(\"cuda\" if torch.cuda.is_available() else \"cpu\")\n",
        "print(f\"Using device: {device}\")"
      ]
    },
    {
      "cell_type": "code",
      "execution_count": 84,
      "metadata": {
        "colab": {
          "base_uri": "https://localhost:8080/"
        },
        "id": "9R7ZjgrCJaO7",
        "outputId": "7a1f9deb-88fe-4b62-9b0f-4007c83e26ef"
      },
      "outputs": [
        {
          "name": "stdout",
          "output_type": "stream",
          "text": [
            "Vocabulary: 15529\n",
            "Vocabulary: 8100\n"
          ]
        }
      ],
      "source": [
        "print(\"Vocabulary:\", len(tamil_tokenizer.word_to_id))\n",
        "print(\"Vocabulary:\", len(english_tokenizer.word_to_id))"
      ]
    },
    {
      "cell_type": "code",
      "execution_count": 85,
      "metadata": {
        "id": "omdKlJ5Emxla"
      },
      "outputs": [],
      "source": [
        "import torch\n",
        "import torch.nn as nn\n",
        "import math\n",
        "import torch.nn.functional as F\n",
        "\n",
        "class PositionalEncoding(nn.Module):\n",
        "    def __init__(self, d_model, max_len=5000):\n",
        "        super(PositionalEncoding, self).__init__()\n",
        "        pe = torch.zeros(max_len, d_model)\n",
        "        position = torch.arange(0, max_len).unsqueeze(1)\n",
        "        div_term = torch.exp(torch.arange(0, d_model, 2) * -(math.log(10000.0) / d_model))\n",
        "        pe[:, 0::2] = torch.sin(position * div_term)\n",
        "        pe[:, 1::2] = torch.cos(position * div_term)\n",
        "        pe = pe.unsqueeze(0)\n",
        "        self.register_buffer('pe', pe)\n",
        "\n",
        "    def forward(self, x):\n",
        "        return x + self.pe[:, :x.size(1)]\n",
        "\n",
        "class MultiHeadSelfAttention(nn.Module):\n",
        "\n",
        "    def __init__(self, d_model: int, h: int, dropout: float) -> None:\n",
        "        super().__init__()\n",
        "        self.d_model = d_model # Embedding vector size\n",
        "        self.h = h # Number of heads\n",
        "        # Make sure d_model is divisible by h\n",
        "        assert d_model % h == 0, \"d_model is not divisible by h\"\n",
        "\n",
        "        self.d_k = d_model // h # Dimension of vector seen by each head\n",
        "        self.w_q = nn.Linear(d_model, d_model, bias=False) # Wq\n",
        "        self.w_k = nn.Linear(d_model, d_model, bias=False) # Wk\n",
        "        self.w_v = nn.Linear(d_model, d_model, bias=False) # Wv\n",
        "        self.w_o = nn.Linear(d_model, d_model, bias=False) # Wo\n",
        "        self.dropout = nn.Dropout(dropout)\n",
        "\n",
        "    @staticmethod\n",
        "    def attention(query, key, value, mask, dropout: nn.Dropout):\n",
        "        d_k = query.shape[-1]\n",
        "        # Just apply the formula from the paper\n",
        "        # (batch, h, seq_len, d_k) --> (batch, h, seq_len, seq_len)\n",
        "        attention_scores = (query @ key.transpose(-2, -1)) / math.sqrt(d_k)\n",
        "        if mask is not None:\n",
        "            # Write a very low value (indicating -inf) to the positions where mask == 0\n",
        "            attention_scores.masked_fill_(mask == 0, -1e9)\n",
        "        attention_scores = attention_scores.softmax(dim=-1) # (batch, h, seq_len, seq_len) # Apply softmax\n",
        "        if dropout is not None:\n",
        "            attention_scores = dropout(attention_scores)\n",
        "        # (batch, h, seq_len, seq_len) --> (batch, h, seq_len, d_k)\n",
        "        # return attention scores which can be used for visualization\n",
        "        return (attention_scores @ value), attention_scores\n",
        "\n",
        "    def forward(self, q, k, v, mask):\n",
        "        query = self.w_q(q) # (batch, seq_len, d_model) --> (batch, seq_len, d_model)\n",
        "        key = self.w_k(k) # (batch, seq_len, d_model) --> (batch, seq_len, d_model)\n",
        "        value = self.w_v(v) # (batch, seq_len, d_model) --> (batch, seq_len, d_model)\n",
        "\n",
        "        # (batch, seq_len, d_model) --> (batch, seq_len, h, d_k) --> (batch, h, seq_len, d_k)\n",
        "        query = query.view(query.shape[0], query.shape[1], self.h, self.d_k).transpose(1, 2)\n",
        "        key = key.view(key.shape[0], key.shape[1], self.h, self.d_k).transpose(1, 2)\n",
        "        value = value.view(value.shape[0], value.shape[1], self.h, self.d_k).transpose(1, 2)\n",
        "\n",
        "        # Calculate attention\n",
        "        x, self.attention_scores = MultiHeadSelfAttention.attention(query, key, value, mask, self.dropout)\n",
        "\n",
        "        # Combine all the heads together\n",
        "        # (batch, h, seq_len, d_k) --> (batch, seq_len, h, d_k) --> (batch, seq_len, d_model)\n",
        "        x = x.transpose(1, 2).contiguous().view(x.shape[0], -1, self.h * self.d_k)\n",
        "\n",
        "        # Multiply by Wo\n",
        "        # (batch, seq_len, d_model) --> (batch, seq_len, d_model)\n",
        "        return self.w_o(x)\n",
        "\n",
        "class FeedForward(nn.Module):\n",
        "    def __init__(self, d_model, d_ff):\n",
        "        super(FeedForward, self).__init__()\n",
        "        self.linear1 = nn.Linear(d_model, d_ff)\n",
        "        self.relu = nn.ReLU()\n",
        "        self.linear2 = nn.Linear(d_ff, d_model)\n",
        "\n",
        "    def forward(self, x):\n",
        "        return self.linear2(self.relu(self.linear1(x)))\n",
        "\n",
        "class EncoderLayer(nn.Module):\n",
        "    def __init__(self, d_model, n_heads, d_ff, dropout=0.1):\n",
        "        super(EncoderLayer, self).__init__()\n",
        "        self.attn = MultiHeadSelfAttention(d_model, n_heads, dropout)\n",
        "        self.ff = FeedForward(d_model, d_ff)\n",
        "        self.norm1 = nn.LayerNorm(d_model)\n",
        "        self.norm2 = nn.LayerNorm(d_model)\n",
        "        self.dropout = nn.Dropout(dropout)\n",
        "\n",
        "    def forward(self, x, mask):\n",
        "        attn_output = self.attn(x,x,x, mask)\n",
        "        x = self.norm1(x + self.dropout(attn_output))\n",
        "        ff_output = self.ff(x)\n",
        "        x = self.norm2(x + self.dropout(ff_output))\n",
        "        return x\n",
        "\n",
        "class DecoderLayer(nn.Module):\n",
        "    def __init__(self, d_model, n_heads, d_ff, dropout=0.1):\n",
        "        super(DecoderLayer, self).__init__()\n",
        "        self.self_attn = MultiHeadSelfAttention(d_model, n_heads, dropout)\n",
        "        self.enc_attn = MultiHeadSelfAttention(d_model, n_heads, dropout)\n",
        "        self.ff = FeedForward(d_model, d_ff)\n",
        "        self.norm1 = nn.LayerNorm(d_model)\n",
        "        self.norm2 = nn.LayerNorm(d_model)\n",
        "        self.norm3 = nn.LayerNorm(d_model)\n",
        "        self.dropout = nn.Dropout(dropout)\n",
        "\n",
        "    def forward(self, x, enc_output, src_mask, tgt_mask):\n",
        "        self_attn_output = self.self_attn(x ,x, x, tgt_mask)\n",
        "        x = self.norm1(x + self.dropout(self_attn_output))\n",
        "        enc_attn_output = self.enc_attn(x, enc_output, enc_output, src_mask)\n",
        "        x = self.norm2(x + self.dropout(enc_attn_output))\n",
        "        ff_output = self.ff(x)\n",
        "        x = self.norm3(x + self.dropout(ff_output))\n",
        "        return x\n",
        "\n",
        "class Encoder(nn.Module):\n",
        "    def __init__(self, input_dim, d_model, n_heads, d_ff, n_layers, dropout=0.1):\n",
        "        super(Encoder, self).__init__()\n",
        "        self.embedding = nn.Embedding(input_dim, d_model)\n",
        "        self.positional_encoding = PositionalEncoding(d_model)\n",
        "        self.layers = nn.ModuleList([EncoderLayer(d_model, n_heads, d_ff, dropout) for _ in range(n_layers)])\n",
        "\n",
        "    def forward(self, src, src_mask):\n",
        "        x = self.embedding(src)\n",
        "        x = self.positional_encoding(x)\n",
        "        for layer in self.layers:\n",
        "            x = layer(x, src_mask)\n",
        "        return x\n",
        "\n",
        "class Decoder(nn.Module):\n",
        "    def __init__(self, output_dim, d_model, n_heads, d_ff, n_layers, dropout=0.1):\n",
        "        super(Decoder, self).__init__()\n",
        "        self.embedding = nn.Embedding(output_dim, d_model)\n",
        "        self.positional_encoding = PositionalEncoding(d_model)\n",
        "        self.layers = nn.ModuleList([DecoderLayer(d_model, n_heads, d_ff, dropout) for _ in range(n_layers)])\n",
        "        self.fc_out = nn.Linear(d_model, output_dim)\n",
        "\n",
        "    def forward(self, tgt, enc_output, src_mask, tgt_mask):\n",
        "        x = self.embedding(tgt)\n",
        "        x = self.positional_encoding(x)\n",
        "        for layer in self.layers:\n",
        "            x = layer(x, enc_output, src_mask, tgt_mask)\n",
        "\n",
        "        return self.fc_out(x)\n",
        "\n",
        "class Transformer(nn.Module):\n",
        "    def __init__(self, src_vocab_size, tgt_vocab_size, d_model, n_heads, d_ff, n_enc_layers, n_dec_layers, dropout=0.1):\n",
        "        super(Transformer, self).__init__()\n",
        "        self.encoder = Encoder(src_vocab_size, d_model, n_heads, d_ff, n_enc_layers, dropout)\n",
        "        self.decoder = Decoder(tgt_vocab_size, d_model, n_heads, d_ff, n_dec_layers, dropout)\n",
        "\n",
        "    def forward(self, src, tgt, src_mask, tgt_mask):\n",
        "        enc_output = self.encoder(src, src_mask)\n",
        "        output = self.decoder(tgt, enc_output, src_mask, tgt_mask)\n",
        "        return output\n",
        "\n",
        "src_vocab_size = 8100\n",
        "tgt_vocab_size = 15529\n",
        "d_model = 64\n",
        "n_heads = 8\n",
        "d_ff = 512\n",
        "n_enc_layers = 8\n",
        "n_dec_layers = 8\n",
        "dropout = 0.1\n",
        "\n",
        "model = Transformer(src_vocab_size, tgt_vocab_size, d_model, n_heads, d_ff, n_enc_layers, n_dec_layers, dropout).to(device)\n"
      ]
    },
    {
      "cell_type": "code",
      "execution_count": 86,
      "metadata": {
        "colab": {
          "base_uri": "https://localhost:8080/"
        },
        "id": "avIaJ4h0mxla",
        "outputId": "8bdb2703-738a-4223-d7b1-82fc8a10e002"
      },
      "outputs": [
        {
          "name": "stdout",
          "output_type": "stream",
          "text": [
            "Total model parameters: 3977769\n"
          ]
        }
      ],
      "source": [
        "import torch\n",
        "\n",
        "def count_parameters(model):\n",
        "    return sum(p.numel() for p in model.parameters())\n",
        "# Assuming 'model' is your PyTorch model\n",
        "total_params = count_parameters(model)\n",
        "print(f\"Total model parameters: {total_params}\")"
      ]
    },
    {
      "cell_type": "code",
      "execution_count": 87,
      "metadata": {
        "colab": {
          "base_uri": "https://localhost:8080/"
        },
        "id": "g_tolnaPmxlb",
        "outputId": "e839cefa-6006-4b93-fd1a-f9e7d98ae244"
      },
      "outputs": [
        {
          "name": "stdout",
          "output_type": "stream",
          "text": [
            "English Vocabulary: 8100\n",
            "Tamil Vocabulary: 15529\n"
          ]
        }
      ],
      "source": [
        "print(\"English Vocabulary:\", len(english_tokenizer.word_to_id))\n",
        "print(\"Tamil Vocabulary:\", len(tamil_tokenizer.word_to_id))"
      ]
    },
    {
      "cell_type": "code",
      "execution_count": 90,
      "metadata": {
        "colab": {
          "base_uri": "https://localhost:8080/",
          "height": 356
        },
        "id": "aRq93fGu84Fs",
        "outputId": "cf2df1ee-be3d-4eaf-f790-04394e98ec15"
      },
      "outputs": [
        {
          "name": "stdout",
          "output_type": "stream",
          "text": [
            "Using device: cuda\n",
            "Device name: NVIDIA GeForce GTX 1060 6GB\n",
            "Device memory: 5.999755859375 GB\n",
            "Model loaded from checkpoint.\n",
            "Training with Level 1 Data\n"
          ]
        },
        {
          "name": "stderr",
          "output_type": "stream",
          "text": [
            "Processing Epoch 00: 100%|██████████| 110/110 [00:10<00:00, 10.51it/s, loss=3.284]\n"
          ]
        },
        {
          "name": "stdout",
          "output_type": "stream",
          "text": [
            "--------------------------------------------------------------------------------\n",
            "     SOURCE:The school is two kilometers ahead\n",
            "     TARGET:பள்ளி இரண்டு கிலோமீட்டர் முன்னால் உள்ளது\n",
            "  PREDICTED:<SOS> பள்ளி நிறைய பணம் உள்ளது\n",
            "Training with Level 1 Data\n"
          ]
        },
        {
          "name": "stderr",
          "output_type": "stream",
          "text": [
            "Processing Epoch 01: 100%|██████████| 110/110 [00:10<00:00, 10.87it/s, loss=3.064]\n"
          ]
        },
        {
          "name": "stdout",
          "output_type": "stream",
          "text": [
            "--------------------------------------------------------------------------------\n",
            "     SOURCE:Creationism is a pseudoscience\n",
            "     TARGET:படைப்பாற்றல் என்பது ஒரு போலி அறிவியல்\n",
            "  PREDICTED:<SOS> ஒரு அழகான ஒரு அழகான வருகிறது\n",
            "Training with Level 1 Data\n"
          ]
        },
        {
          "name": "stderr",
          "output_type": "stream",
          "text": [
            "Processing Epoch 02: 100%|██████████| 110/110 [00:10<00:00, 10.91it/s, loss=2.821]\n"
          ]
        },
        {
          "name": "stdout",
          "output_type": "stream",
          "text": [
            "--------------------------------------------------------------------------------\n",
            "     SOURCE:The meeting took place yesterday\n",
            "     TARGET:இந்த சந்திப்பு நேற்று இடம்பெற்றுள்ளது\n",
            "  PREDICTED:<SOS> கூட்டம் மக்கள் இந்த சந்திப்பு\n",
            "Training with Level 1 Data\n"
          ]
        },
        {
          "name": "stderr",
          "output_type": "stream",
          "text": [
            "Processing Epoch 03: 100%|██████████| 110/110 [00:10<00:00, 10.88it/s, loss=2.887]\n"
          ]
        },
        {
          "name": "stdout",
          "output_type": "stream",
          "text": [
            "--------------------------------------------------------------------------------\n",
            "     SOURCE:A strong wind began to set in\n",
            "     TARGET:பலத்த காற்று வீசத் தொடங்கியது\n",
            "  PREDICTED:<SOS> பலத்த காற்று வீசியது\n",
            "Training with Level 1 Data\n"
          ]
        },
        {
          "name": "stderr",
          "output_type": "stream",
          "text": [
            "Processing Epoch 04: 100%|██████████| 110/110 [00:10<00:00, 10.79it/s, loss=2.952]\n"
          ]
        },
        {
          "name": "stdout",
          "output_type": "stream",
          "text": [
            "--------------------------------------------------------------------------------\n",
            "     SOURCE:I saw land in the distance\n",
            "     TARGET:தூரத்தில் நிலத்தைப் பார்த்தேன்\n",
            "  PREDICTED:<SOS> தூரத்தில் தூரத்தில் பார்த்தேன்\n",
            "Training with Level 1 Data\n"
          ]
        },
        {
          "name": "stderr",
          "output_type": "stream",
          "text": [
            "Processing Epoch 05: 100%|██████████| 110/110 [00:10<00:00, 10.83it/s, loss=2.283]\n"
          ]
        },
        {
          "name": "stdout",
          "output_type": "stream",
          "text": [
            "--------------------------------------------------------------------------------\n",
            "     SOURCE:To my surprise he has failed\n",
            "     TARGET:எனக்கு ஆச்சரியமாக அவர் தோல்வியடைந்தார்\n",
            "  PREDICTED:<SOS> எனக்கு ஆச்சரியமாக அவர் ஆச்சரியமாக அவர் வேண்டாம்\n",
            "Training with Level 2 Data\n"
          ]
        },
        {
          "name": "stderr",
          "output_type": "stream",
          "text": [
            "Processing Epoch 06: 100%|██████████| 219/219 [00:20<00:00, 10.89it/s, loss=4.102]\n"
          ]
        },
        {
          "name": "stdout",
          "output_type": "stream",
          "text": [
            "--------------------------------------------------------------------------------\n",
            "     SOURCE:The machine squealed for lack of oil\n",
            "     TARGET:எண்ணெய் இல்லாததால் இயந்திரம் அலறியது\n",
            "  PREDICTED:<SOS> பேராசிரியர் இருந்து பயங்கரவாதிகளால் உள்ளது\n",
            "Training with Level 2 Data\n"
          ]
        },
        {
          "name": "stderr",
          "output_type": "stream",
          "text": [
            "Processing Epoch 07: 100%|██████████| 219/219 [00:20<00:00, 10.92it/s, loss=3.492]\n"
          ]
        },
        {
          "name": "stdout",
          "output_type": "stream",
          "text": [
            "--------------------------------------------------------------------------------\n",
            "     SOURCE:We sprinkle salt for purification\n",
            "     TARGET:சுத்திகரிப்புக்காக நாங்கள் உப்பு தெளிக்கிறோம்\n",
            "  PREDICTED:<SOS> நாங்கள் உப்பு சேர்த்து சென்றோம்\n",
            "Training with Level 2 Data\n"
          ]
        },
        {
          "name": "stderr",
          "output_type": "stream",
          "text": [
            "Processing Epoch 08: 100%|██████████| 219/219 [00:20<00:00, 10.86it/s, loss=2.744]\n"
          ]
        },
        {
          "name": "stdout",
          "output_type": "stream",
          "text": [
            "--------------------------------------------------------------------------------\n",
            "     SOURCE:The logs flamed brightly\n",
            "     TARGET:மரக்கட்டைகள் பிரகாசமாக எரிந்தன\n",
            "  PREDICTED:<SOS> தீ பிரகாசமாக எரிந்தது\n",
            "Training with Level 2 Data\n"
          ]
        },
        {
          "name": "stderr",
          "output_type": "stream",
          "text": [
            "Processing Epoch 09: 100%|██████████| 219/219 [00:20<00:00, 10.91it/s, loss=3.578]\n"
          ]
        },
        {
          "name": "stdout",
          "output_type": "stream",
          "text": [
            "--------------------------------------------------------------------------------\n",
            "     SOURCE:Its a piece of cake\n",
            "     TARGET:அது ஒரு துண்டு கேக்\n",
            "  PREDICTED:<SOS> இது ஒரு நல்ல வருகிறது\n",
            "Training with Level 2 Data\n"
          ]
        },
        {
          "name": "stderr",
          "output_type": "stream",
          "text": [
            "Processing Epoch 10: 100%|██████████| 219/219 [00:20<00:00, 10.92it/s, loss=3.450]\n"
          ]
        },
        {
          "name": "stdout",
          "output_type": "stream",
          "text": [
            "--------------------------------------------------------------------------------\n",
            "     SOURCE:Smoke is rising from the chimney\n",
            "     TARGET:புகைபோக்கியில் இருந்து புகை எழுகிறது\n",
            "  PREDICTED:<SOS> இருந்து புகை எழுகிறது\n",
            "Training with Level 3 Data\n"
          ]
        },
        {
          "name": "stderr",
          "output_type": "stream",
          "text": [
            "Processing Epoch 11: 100%|██████████| 345/345 [00:31<00:00, 10.91it/s, loss=4.882]\n"
          ]
        },
        {
          "name": "stdout",
          "output_type": "stream",
          "text": [
            "--------------------------------------------------------------------------------\n",
            "     SOURCE:You be quiet\n",
            "     TARGET:நீ அமைதியாக இரு\n",
            "  PREDICTED:<SOS> நீங்கள் மகிழ்ச்சியாக இருக்கிறீர்கள்\n",
            "Training with Level 3 Data\n"
          ]
        },
        {
          "name": "stderr",
          "output_type": "stream",
          "text": [
            "Processing Epoch 12: 100%|██████████| 345/345 [00:32<00:00, 10.75it/s, loss=4.838]\n"
          ]
        },
        {
          "name": "stdout",
          "output_type": "stream",
          "text": [
            "--------------------------------------------------------------------------------\n",
            "     SOURCE:Books are popular with students\n",
            "     TARGET:புத்தகங்கள் மாணவர்களிடையே பிரபலமாக உள்ளன\n",
            "  PREDICTED:<SOS> மாணவர்கள் பொதுவாக இருங்கள்\n",
            "Training with Level 3 Data\n"
          ]
        },
        {
          "name": "stderr",
          "output_type": "stream",
          "text": [
            "Processing Epoch 13: 100%|██████████| 345/345 [00:31<00:00, 10.90it/s, loss=4.330]\n"
          ]
        },
        {
          "name": "stdout",
          "output_type": "stream",
          "text": [
            "--------------------------------------------------------------------------------\n",
            "     SOURCE:In case of a fire use this emergency stairway\n",
            "     TARGET:தீ விபத்து ஏற்பட்டால் இந்த அவசர படிக்கட்டுகளைப் பயன்படுத்தவும்\n",
            "  PREDICTED:<SOS> தீ ஏற்பட்டால் இந்த மணிக்கு தீ விபத்து ஏற்பட்டது\n",
            "Training with Level 3 Data\n"
          ]
        },
        {
          "name": "stderr",
          "output_type": "stream",
          "text": [
            "Processing Epoch 14: 100%|██████████| 345/345 [00:31<00:00, 10.94it/s, loss=3.821]\n"
          ]
        },
        {
          "name": "stdout",
          "output_type": "stream",
          "text": [
            "--------------------------------------------------------------------------------\n",
            "     SOURCE:No Im not mad at you Im just disappointed\n",
            "     TARGET:இல்லை நான் உங்கள் மீது கோபப்படவில்லை நான் ஏமாற்றமடைந்தேன்\n",
            "  PREDICTED:<SOS> நான் உங்களுக்கு எந்த காரணமும் இல்லை நான் பயப்படுகிறேன் இல்லை\n"
          ]
        }
      ],
      "source": [
        "import torch\n",
        "import torch.nn as nn\n",
        "from torch.utils.data import DataLoader\n",
        "from torch.optim.lr_scheduler import LambdaLR\n",
        "from tqdm import tqdm\n",
        "import os\n",
        "from pathlib import Path\n",
        "import warnings\n",
        "from torch.utils.data import random_split\n",
        "from tokenizers import Tokenizer\n",
        "from tokenizers.models import WordLevel\n",
        "from tokenizers.trainers import WordLevelTrainer\n",
        "from tokenizers.pre_tokenizers import Whitespace\n",
        "\n",
        "\n",
        "\n",
        "epochs = 15\n",
        "lr = 10**-4\n",
        "\n",
        "def causal_mask(size):\n",
        "    mask = torch.triu(torch.ones((1, size, size)), diagonal=1).type(torch.int)\n",
        "    return mask == 0\n",
        "\n",
        "def greedy_decode(model, source, source_mask, tokenizer_src, tokenizer_tgt, max_len, device):\n",
        "    sos_idx, eos_idx = 2, 3\n",
        "    encoder_output = model.encoder(source.to(device), source_mask.to(device))\n",
        "    decoder_input = torch.empty(1, 1).fill_(sos_idx).type_as(source).to(device)\n",
        "\n",
        "    while decoder_input.size(1) < max_len:\n",
        "        decoder_mask = causal_mask(decoder_input.size(1)).type_as(source_mask).to(device)\n",
        "        out = model.decoder(decoder_input, encoder_output, source_mask, decoder_mask)\n",
        "        next_word = torch.max(out[:, -1], dim=1)[1]\n",
        "        if next_word == eos_idx: break\n",
        "        decoder_input = torch.cat([decoder_input, next_word.view(1, 1).to(device)], dim=1)\n",
        "        #if next_word == eos_idx: break\n",
        "\n",
        "    return decoder_input.squeeze(0)\n",
        "\n",
        "\n",
        "def run_validation(model, validation_ds, tokenizer_src, tokenizer_tgt, max_len, device, print_msg, num_examples=1):\n",
        "    model.to(device)\n",
        "    model.eval()\n",
        "    source_texts, expected, predicted = [], [], []\n",
        "    try:\n",
        "      console_width = os.get_terminal_size().columns\n",
        "    except OSError:\n",
        "      console_width = 80\n",
        "\n",
        "    with torch.no_grad():\n",
        "        for count, batch in enumerate(validation_ds, start=1):\n",
        "            encoder_input, encoder_mask = batch[\"english_token\"].to(device), batch[\"encoder_mask\"].to(device)\n",
        "            assert encoder_input.size(0) == 1, \"Batch size must be 1 for validation\"\n",
        "            model_out = greedy_decode(model, encoder_input, encoder_mask, tokenizer_src, tokenizer_tgt, max_len, device)\n",
        "\n",
        "            source_text = batch[\"english\"][0]\n",
        "            target_text = batch[\"tamil\"][0]\n",
        "            model_out_text = tokenizer_tgt.decode(model_out.detach().cpu().numpy())\n",
        "\n",
        "            source_texts.append(source_text)\n",
        "            expected.append(target_text)\n",
        "            predicted.append(model_out_text)\n",
        "\n",
        "            print_msg(f\"{'-'*console_width}\\n{'SOURCE:':>12}{source_text}\\n{'TARGET:':>12}{target_text}\\n{'PREDICTED:':>12}{model_out_text}\")\n",
        "            if count == num_examples: break\n",
        "\n",
        "def train_model():\n",
        "\n",
        "    device = \"cuda\" if torch.cuda.is_available() else \"mps\" if torch.has_mps or torch.backends.mps.is_available() else \"cpu\"\n",
        "    print(\"Using device:\", device)\n",
        "    if device == 'cuda':\n",
        "        print(f\"Device name: {torch.cuda.get_device_name(device.index)}\")\n",
        "        print(f\"Device memory: {torch.cuda.get_device_properties(device.index).total_memory / 1024 ** 3} GB\")\n",
        "\n",
        "    checkpoint_path = \"Model_Params.pth\"\n",
        "    if os.path.exists(checkpoint_path):\n",
        "        model.load_state_dict(torch.load(checkpoint_path))\n",
        "        print(\"Model loaded from checkpoint.\")\n",
        "    else :\n",
        "        print(\"Checkpoint not found. Training from scratch.\")\n",
        "\n",
        "    \n",
        "    optimizer = torch.optim.Adam(model.parameters(), lr = lr, eps=1e-9)\n",
        "    loss_fn = nn.CrossEntropyLoss(ignore_index= 1).to(device)\n",
        "\n",
        "    for epoch in range(epochs):\n",
        "        torch.cuda.empty_cache()\n",
        "        model.train()\n",
        "        if epoch <= 5:\n",
        "            print(\"Training with Level 1 Data\")\n",
        "            train_dataloader = train_dataloader_1\n",
        "            test_dataloader = test_dataloader_1\n",
        "        elif epoch > 5 and epoch <= 10:\n",
        "            print(\"Training with Level 2 Data\")\n",
        "            train_dataloader = train_dataloader_2\n",
        "            test_dataloader = test_dataloader_2\n",
        "        elif epoch > 10 and epoch <= 15:\n",
        "            print(\"Training with Level 3 Data\")\n",
        "            train_dataloader = train_dataloader_3\n",
        "            test_dataloader = test_dataloader_3\n",
        "        else:\n",
        "            print(\"cant get the data\")\n",
        "\n",
        "        batch_iterator = tqdm(train_dataloader, desc=f\"Processing Epoch {epoch:02d}\")\n",
        "        for batch in batch_iterator:\n",
        "            encoder_input = batch['english_token'].to(device)\n",
        "            decoder_input = batch['tamil_token'].to(device)\n",
        "            encoder_mask = batch['encoder_mask'].to(device)\n",
        "            decoder_mask = batch['decoder_mask'].to(device)\n",
        "\n",
        "            output = model(encoder_input, decoder_input, encoder_mask, decoder_mask)\n",
        "\n",
        "            label = batch['tamil_target'].to(device)\n",
        "\n",
        "            loss = loss_fn(output.view(-1, (len(tamil_tokenizer.word_to_id))), label.view(-1))\n",
        "            batch_iterator.set_postfix({\"loss\": f\"{loss.item():6.3f}\"})\n",
        "\n",
        "            loss.backward()\n",
        "            optimizer.step()\n",
        "            optimizer.zero_grad()\n",
        "        torch.save(model.state_dict(), \"Model_Params.pth\")\n",
        "        run_validation(model, test_dataloader, english_tokenizer, tamil_tokenizer, 24, device, lambda msg: batch_iterator.write(msg))\n",
        "\n",
        "if __name__ == '__main__':\n",
        "    warnings.filterwarnings(\"ignore\")\n",
        "    train_model()\n",
        "      \n"
      ]
    },
    {
      "cell_type": "code",
      "execution_count": 109,
      "metadata": {},
      "outputs": [
        {
          "name": "stdout",
          "output_type": "stream",
          "text": [
            "--------------------------------------------------------------------------------\n",
            "  PREDICTED:அவர் பணக்காரர் அவர் தனது பேச வேண்டாம்.\n"
          ]
        }
      ],
      "source": [
        "import torch\n",
        "import os\n",
        "\n",
        "def causal_mask(size, device):\n",
        "    mask = torch.triu(torch.ones((1, size, size), device=device), diagonal=1).int()\n",
        "    return mask == 0\n",
        "\n",
        "def greedy_decode1(model, source, source_mask, max_len, device):\n",
        "    sos_idx, eos_idx = 2, 3\n",
        "    # Move encoder input to device\n",
        "    encoder_output = model.encoder(source, source_mask)\n",
        "    decoder_input = torch.empty(1, 1, device=device).fill_(sos_idx).long()\n",
        "\n",
        "    while decoder_input.size(1) < max_len:\n",
        "        decoder_mask = causal_mask(decoder_input.size(1), device)\n",
        "        out = model.decoder(decoder_input, encoder_output, source_mask, decoder_mask)\n",
        "        next_word = torch.max(out[:, -1], dim=1)[1]\n",
        "        if next_word.item() == eos_idx:\n",
        "            break\n",
        "        decoder_input = torch.cat([decoder_input, next_word.view(1, 1)], dim=1)\n",
        "\n",
        "    return decoder_input.squeeze(0)[1:]\n",
        "\n",
        "def run_validation1(model, encoder_input, encoder_mask, max_len, device):\n",
        "    model.to(device)\n",
        "    model.eval()\n",
        "    predicted = []\n",
        "    \n",
        "    try:\n",
        "        console_width = os.get_terminal_size().columns\n",
        "    except OSError:\n",
        "        console_width = 80\n",
        "\n",
        "    with torch.no_grad():\n",
        "        # Ensure encoder input and mask are on the device\n",
        "        encoder_input = encoder_input.to(device)\n",
        "        encoder_mask = encoder_mask.to(device)\n",
        "        \n",
        "        assert encoder_input.size(0) == 1, \"Batch size must be 1 for validation\"\n",
        "        model_out = greedy_decode1(model, encoder_input, encoder_mask, max_len, device)\n",
        "    \n",
        "        model_out_text = tamil_tokenizer.decode(model_out.detach().cpu().numpy())\n",
        "        model_out_text += \".\"\n",
        "        predicted.append(model_out_text)\n",
        "\n",
        "        print(f\"{'-'*console_width}\\n{'PREDICTED:':>12}{model_out_text}\")\n",
        "\n",
        "# Example sentence and pre-processing\n",
        "sentence = \"Dont speak to the driver while he is driving\"\n",
        "sentence = english_tokenizer.encode(sentence)\n",
        "sentence = pad_sequence_source(sentence, 20, cls_token=2, sep_token=3)\n",
        "sentence = torch.tensor(sentence, dtype=torch.long).to('cuda')  # Move tensor to CUDA\n",
        "encoder_input = sentence.unsqueeze(0).to('cuda')  # Ensure batch dimension and move to CUDA\n",
        "encoder_mask = (sentence != 1).unsqueeze(0).unsqueeze(0).int().to('cuda')  # Move mask to CUDA\n",
        "\n",
        "# Running validation on CUDA\n",
        "device = torch.device('cuda' if torch.cuda.is_available() else 'cpu')\n",
        "run_validation1(model, encoder_input, encoder_mask, 24, device)\n"
      ]
    },
    {
      "cell_type": "code",
      "execution_count": 106,
      "metadata": {},
      "outputs": [
        {
          "name": "stdout",
          "output_type": "stream",
          "text": [
            "File size: 17.71 MB\n"
          ]
        }
      ],
      "source": [
        "import os\n",
        "\n",
        "# Path to your checkpoint file\n",
        "file_path = \"Model_Params.pth\"\n",
        "\n",
        "# Check if the file exists\n",
        "if os.path.exists(file_path):\n",
        "    file_size = os.path.getsize(file_path)  # Size in bytes\n",
        "    print(f\"File size: {file_size / (1024 * 1024):.2f} MB\")\n",
        "else:\n",
        "    print(\"File does not exist.\")"
      ]
    },
    {
      "cell_type": "code",
      "execution_count": null,
      "metadata": {},
      "outputs": [],
      "source": []
    }
  ],
  "metadata": {
    "colab": {
      "provenance": []
    },
    "kernelspec": {
      "display_name": "Python 3",
      "name": "python3"
    },
    "language_info": {
      "codemirror_mode": {
        "name": "ipython",
        "version": 3
      },
      "file_extension": ".py",
      "mimetype": "text/x-python",
      "name": "python",
      "nbconvert_exporter": "python",
      "pygments_lexer": "ipython3",
      "version": "3.11.0"
    }
  },
  "nbformat": 4,
  "nbformat_minor": 0
}
